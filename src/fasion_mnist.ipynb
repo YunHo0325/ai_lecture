{
  "nbformat": 4,
  "nbformat_minor": 0,
  "metadata": {
    "colab": {
      "name": "fasion_mnist.ipynb",
      "provenance": [],
      "collapsed_sections": [],
      "authorship_tag": "ABX9TyPZK6oAaZAO5THBpRRbf2dg",
      "include_colab_link": true
    },
    "kernelspec": {
      "name": "python3",
      "display_name": "Python 3"
    },
    "language_info": {
      "name": "python"
    },
    "accelerator": "GPU"
  },
  "cells": [
    {
      "cell_type": "markdown",
      "metadata": {
        "id": "view-in-github",
        "colab_type": "text"
      },
      "source": [
        "<a href=\"https://colab.research.google.com/github/YunHo0325/ai_lecture/blob/main/src/fasion_mnist.ipynb\" target=\"_parent\"><img src=\"https://colab.research.google.com/assets/colab-badge.svg\" alt=\"Open In Colab\"/></a>"
      ]
    },
    {
      "cell_type": "code",
      "execution_count": 1,
      "metadata": {
        "id": "jVj8IhhL-GHm"
      },
      "outputs": [],
      "source": [
        "import tensorflow as tf\n",
        "import matplotlib.pyplot as plt\n",
        "import numpy as np \n",
        "\n",
        "from tensorflow.keras.models import Sequential\n",
        "from tensorflow.keras.layers import Dense, Dropout, Flatten, Conv2D, MaxPooling2D\n",
        "\n",
        "from sklearn.model_selection import train_test_split"
      ]
    },
    {
      "cell_type": "code",
      "source": [
        "fashion_mnist = tf.keras.datasets.fashion_mnist\n",
        "(x_train, y_train), (x_test, y_test) = fashion_mnist.load_data()"
      ],
      "metadata": {
        "colab": {
          "base_uri": "https://localhost:8080/"
        },
        "id": "ISYxAxMI-HF-",
        "outputId": "a8d9d681-b558-4ba9-eef8-da0c972a9da9"
      },
      "execution_count": 2,
      "outputs": [
        {
          "output_type": "stream",
          "name": "stdout",
          "text": [
            "Downloading data from https://storage.googleapis.com/tensorflow/tf-keras-datasets/train-labels-idx1-ubyte.gz\n",
            "32768/29515 [=================================] - 0s 0us/step\n",
            "40960/29515 [=========================================] - 0s 0us/step\n",
            "Downloading data from https://storage.googleapis.com/tensorflow/tf-keras-datasets/train-images-idx3-ubyte.gz\n",
            "26427392/26421880 [==============================] - 0s 0us/step\n",
            "26435584/26421880 [==============================] - 0s 0us/step\n",
            "Downloading data from https://storage.googleapis.com/tensorflow/tf-keras-datasets/t10k-labels-idx1-ubyte.gz\n",
            "16384/5148 [===============================================================================================] - 0s 0us/step\n",
            "Downloading data from https://storage.googleapis.com/tensorflow/tf-keras-datasets/t10k-images-idx3-ubyte.gz\n",
            "4423680/4422102 [==============================] - 0s 0us/step\n",
            "4431872/4422102 [==============================] - 0s 0us/step\n"
          ]
        }
      ]
    },
    {
      "cell_type": "code",
      "source": [
        "plt.imshow(x_train[0])"
      ],
      "metadata": {
        "colab": {
          "base_uri": "https://localhost:8080/",
          "height": 283
        },
        "id": "uMNLBYQj3wrx",
        "outputId": "cf96dd0a-990e-4c2b-8c9c-fe74a6f97bba"
      },
      "execution_count": 19,
      "outputs": [
        {
          "output_type": "execute_result",
          "data": {
            "text/plain": [
              "<matplotlib.image.AxesImage at 0x7fd17a99a750>"
            ]
          },
          "metadata": {},
          "execution_count": 19
        },
        {
          "output_type": "display_data",
          "data": {
            "image/png": "[encoded data removed]",
            "text/plain": [
              "<Figure size 432x288 with 1 Axes>"
            ]
          },
          "metadata": {
            "needs_background": "light"
          }
        }
      ]
    },
    {
      "cell_type": "code",
      "source": [
        "# 전처리\n",
        "#x_train, x_test = x_train/255.0, x_test/255.0\n",
        "x_train, x_val, y_train, y_val = train_test_split(x_train, \n",
        "                                                  y_train, \n",
        "                                                  test_size=0.3, \n",
        "                                                  random_state=2020)"
      ],
      "metadata": {
        "id": "SgkJ0q7P2tif"
      },
      "execution_count": 7,
      "outputs": []
    },
    {
      "cell_type": "code",
      "source": [
        "y_train_oh = tf.keras.utils.to_categorical(y_train)\n",
        "y_val_oh = tf.keras.utils.to_categorical(y_val)\n",
        "y_test_oh = tf.keras.utils.to_categorical(y_test)"
      ],
      "metadata": {
        "id": "19USrNp23UCo"
      },
      "execution_count": 13,
      "outputs": []
    },
    {
      "cell_type": "code",
      "source": [
        "def cnnModel():\n",
        "    model = Sequential()\n",
        "    model.add(Conv2D(32, kernel_size=(5, 5), strides=(1, 1), padding='same',\n",
        "                    activation='relu',\n",
        "                    input_shape=(28, 28, 1)))\n",
        "    model.add(MaxPooling2D(pool_size=(2, 2), strides=(2, 2)))\n",
        "    model.add(Conv2D(64, (2, 2), activation='relu', padding='same'))\n",
        "    model.add(MaxPooling2D(pool_size=(2, 2)))\n",
        "    model.add(Dropout(0.25))\n",
        "    model.add(Flatten())\n",
        "    model.add(Dense(1000, activation='relu'))\n",
        "    model.add(Dropout(0.5))\n",
        "    model.add(Dense(10, activation='softmax'))\n",
        "\n",
        "    return model"
      ],
      "metadata": {
        "id": "ejbhsjA32xLA"
      },
      "execution_count": 16,
      "outputs": []
    },
    {
      "cell_type": "code",
      "source": [
        "tf.keras.backend.clear_session()    # 세션 초기화\n",
        "model = cnnModel()\n",
        "\n",
        "# 모델 컴파일 : loss = 'categorical_crossentropy'\n",
        "model.compile(optimizer='adam',\n",
        "            loss='categorical_crossentropy',\n",
        "            metrics=['accuracy'])\n",
        "model.summary()"
      ],
      "metadata": {
        "colab": {
          "base_uri": "https://localhost:8080/"
        },
        "id": "W3zGmnch3Hqh",
        "outputId": "6b831588-c46b-477c-8dfc-3dc245ffac75"
      },
      "execution_count": 17,
      "outputs": [
        {
          "output_type": "stream",
          "name": "stdout",
          "text": [
            "Model: \"sequential\"\n",
            "_________________________________________________________________\n",
            " Layer (type)                Output Shape              Param #   \n",
            "=================================================================\n",
            " conv2d (Conv2D)             (None, 28, 28, 32)        832       \n",
            "                                                                 \n",
            " max_pooling2d (MaxPooling2D  (None, 14, 14, 32)       0         \n",
            " )                                                               \n",
            "                                                                 \n",
            " conv2d_1 (Conv2D)           (None, 14, 14, 64)        8256      \n",
            "                                                                 \n",
            " max_pooling2d_1 (MaxPooling  (None, 7, 7, 64)         0         \n",
            " 2D)                                                             \n",
            "                                                                 \n",
            " dropout (Dropout)           (None, 7, 7, 64)          0         \n",
            "                                                                 \n",
            " flatten (Flatten)           (None, 3136)              0         \n",
            "                                                                 \n",
            " dense (Dense)               (None, 1000)              3137000   \n",
            "                                                                 \n",
            " dropout_1 (Dropout)         (None, 1000)              0         \n",
            "                                                                 \n",
            " dense_1 (Dense)             (None, 10)                10010     \n",
            "                                                                 \n",
            "=================================================================\n",
            "Total params: 3,156,098\n",
            "Trainable params: 3,156,098\n",
            "Non-trainable params: 0\n",
            "_________________________________________________________________\n"
          ]
        }
      ]
    },
    {
      "cell_type": "code",
      "source": [
        "# 모델 훈련\n",
        "history = model.fit(x_train, y_train_oh, \n",
        "                    epochs=20,\n",
        "                    validation_data=(x_val, y_val_oh))"
      ],
      "metadata": {
        "colab": {
          "base_uri": "https://localhost:8080/"
        },
        "id": "Att5AYOR3ItH",
        "outputId": "1bd9121a-5026-4adc-cf44-17c114fcf155"
      },
      "execution_count": 18,
      "outputs": [
        {
          "output_type": "stream",
          "name": "stdout",
          "text": [
            "Epoch 1/20\n",
            "919/919 [==============================] - 60s 64ms/step - loss: 0.9569 - accuracy: 0.6393 - val_loss: 0.6216 - val_accuracy: 0.7580\n",
            "Epoch 2/20\n",
            "919/919 [==============================] - 59s 65ms/step - loss: 0.6484 - accuracy: 0.7546 - val_loss: 0.5867 - val_accuracy: 0.7785\n",
            "Epoch 3/20\n",
            "919/919 [==============================] - 59s 64ms/step - loss: 0.5980 - accuracy: 0.7745 - val_loss: 0.5206 - val_accuracy: 0.8098\n",
            "Epoch 4/20\n",
            "919/919 [==============================] - 60s 65ms/step - loss: 0.5598 - accuracy: 0.7903 - val_loss: 0.5142 - val_accuracy: 0.8019\n",
            "Epoch 5/20\n",
            "919/919 [==============================] - 59s 65ms/step - loss: 0.5316 - accuracy: 0.8009 - val_loss: 0.4649 - val_accuracy: 0.8287\n",
            "Epoch 6/20\n",
            "919/919 [==============================] - 60s 65ms/step - loss: 0.5034 - accuracy: 0.8095 - val_loss: 0.4392 - val_accuracy: 0.8346\n",
            "Epoch 7/20\n",
            "919/919 [==============================] - 59s 64ms/step - loss: 0.4702 - accuracy: 0.8238 - val_loss: 0.4124 - val_accuracy: 0.8499\n",
            "Epoch 8/20\n",
            "919/919 [==============================] - 59s 65ms/step - loss: 0.4510 - accuracy: 0.8326 - val_loss: 0.3965 - val_accuracy: 0.8580\n",
            "Epoch 9/20\n",
            "919/919 [==============================] - 59s 65ms/step - loss: 0.4294 - accuracy: 0.8415 - val_loss: 0.3817 - val_accuracy: 0.8583\n",
            "Epoch 10/20\n",
            "919/919 [==============================] - 59s 64ms/step - loss: 0.4109 - accuracy: 0.8479 - val_loss: 0.3711 - val_accuracy: 0.8640\n",
            "Epoch 11/20\n",
            "919/919 [==============================] - 59s 64ms/step - loss: 0.3970 - accuracy: 0.8521 - val_loss: 0.3698 - val_accuracy: 0.8640\n",
            "Epoch 12/20\n",
            "919/919 [==============================] - 59s 64ms/step - loss: 0.3845 - accuracy: 0.8589 - val_loss: 0.3474 - val_accuracy: 0.8759\n",
            "Epoch 13/20\n",
            "919/919 [==============================] - 59s 65ms/step - loss: 0.3691 - accuracy: 0.8616 - val_loss: 0.3375 - val_accuracy: 0.8775\n",
            "Epoch 14/20\n",
            "919/919 [==============================] - 60s 65ms/step - loss: 0.3665 - accuracy: 0.8647 - val_loss: 0.3363 - val_accuracy: 0.8805\n",
            "Epoch 15/20\n",
            "919/919 [==============================] - 59s 65ms/step - loss: 0.3564 - accuracy: 0.8675 - val_loss: 0.3262 - val_accuracy: 0.8813\n",
            "Epoch 16/20\n",
            "919/919 [==============================] - 60s 65ms/step - loss: 0.3458 - accuracy: 0.8685 - val_loss: 0.3279 - val_accuracy: 0.8819\n",
            "Epoch 17/20\n",
            "919/919 [==============================] - 60s 65ms/step - loss: 0.3454 - accuracy: 0.8705 - val_loss: 0.3364 - val_accuracy: 0.8817\n",
            "Epoch 18/20\n",
            "919/919 [==============================] - 59s 65ms/step - loss: 0.3301 - accuracy: 0.8753 - val_loss: 0.3138 - val_accuracy: 0.8870\n",
            "Epoch 19/20\n",
            "919/919 [==============================] - 60s 65ms/step - loss: 0.3247 - accuracy: 0.8779 - val_loss: 0.3184 - val_accuracy: 0.8834\n",
            "Epoch 20/20\n",
            "919/919 [==============================] - 60s 65ms/step - loss: 0.3220 - accuracy: 0.8795 - val_loss: 0.3122 - val_accuracy: 0.8858\n"
          ]
        }
      ]
    },
    {
      "cell_type": "code",
      "source": [
        "# 정확도 평가\n",
        "test_loss, test_acc = model.evaluate(x_test, y_test_oh)\n",
        "print('테스트 정확도:', test_acc)"
      ],
      "metadata": {
        "colab": {
          "base_uri": "https://localhost:8080/"
        },
        "id": "rXZPbTSz2x55",
        "outputId": "88a9ead7-53e9-4e94-999e-cd761b6820e9"
      },
      "execution_count": 21,
      "outputs": [
        {
          "output_type": "stream",
          "name": "stdout",
          "text": [
            "313/313 [==============================] - 5s 16ms/step - loss: 0.3293 - accuracy: 0.8790\n",
            "테스트 정확도: 0.8790000081062317\n"
          ]
        }
      ]
    },
    {
      "cell_type": "code",
      "source": [
        ""
      ],
      "metadata": {
        "id": "Gab2HWT260p8"
      },
      "execution_count": null,
      "outputs": []
    }
  ]
}
{
  "nbformat": 4,
  "nbformat_minor": 0,
  "metadata": {
    "colab": {
      "provenance": [],
      "gpuType": "T4",
      "authorship_tag": "ABX9TyOlOlCJLJSpm/KG65OLjDpA",
      "include_colab_link": true
    },
    "kernelspec": {
      "name": "python3",
      "display_name": "Python 3"
    },
    "language_info": {
      "name": "python"
    },
    "accelerator": "GPU"
  },
  "cells": [
    {
      "cell_type": "markdown",
      "metadata": {
        "id": "view-in-github",
        "colab_type": "text"
      },
      "source": [
        "<a href=\"https://colab.research.google.com/github/YunHo0325/ai_lecture/blob/main/src/mnist.ipynb\" target=\"_parent\"><img src=\"https://colab.research.google.com/assets/colab-badge.svg\" alt=\"Open In Colab\"/></a>"
      ]
    },
    {
      "cell_type": "code",
      "execution_count": null,
      "metadata": {
        "id": "N8VMI5CPnaf8"
      },
      "outputs": [],
      "source": [
        "# 필요한 package import\n"
      ]
    },
    {
      "cell_type": "code",
      "source": [
        "print(tf.__version__)   # Tensorflow의 버전을 출력"
      ],
      "metadata": {
        "id": "049wTSSCncJ5"
      },
      "execution_count": null,
      "outputs": []
    },
    {
      "cell_type": "markdown",
      "source": [
        "# 1. MNIST 데이터셋 불러오기"
      ],
      "metadata": {
        "id": "nFVfaCpIoEiB"
      }
    },
    {
      "cell_type": "code",
      "source": [
        "# MNIST 데이터를 로드\n"
      ],
      "metadata": {
        "id": "C-ehk3B4njSn"
      },
      "execution_count": null,
      "outputs": []
    },
    {
      "cell_type": "markdown",
      "source": [
        "# 2. MNIST 데이터셋 출력"
      ],
      "metadata": {
        "id": "JGzdyDamoJne"
      }
    },
    {
      "cell_type": "code",
      "source": [
        "# 2번째 이미지 출력\n"
      ],
      "metadata": {
        "id": "uvi1nrxOnn0w"
      },
      "execution_count": null,
      "outputs": []
    },
    {
      "cell_type": "code",
      "source": [
        "# 2번째 이미지 label 출력\n"
      ],
      "metadata": {
        "id": "_ESya7Vknuod"
      },
      "execution_count": null,
      "outputs": []
    },
    {
      "cell_type": "code",
      "source": [
        "# 특정 index의 이미지 출력\n"
      ],
      "metadata": {
        "id": "vPYZ-PXynxnV"
      },
      "execution_count": null,
      "outputs": []
    },
    {
      "cell_type": "markdown",
      "source": [
        "# 3. MNIST 데이터셋 shape 확인"
      ],
      "metadata": {
        "id": "eCMIybRToNj4"
      }
    },
    {
      "cell_type": "code",
      "source": [
        "# 데이터셋 구조 확인\n"
      ],
      "metadata": {
        "id": "YvbzTmJroC0n"
      },
      "execution_count": null,
      "outputs": []
    },
    {
      "cell_type": "code",
      "source": [
        "# 데이터셋 출력\n"
      ],
      "metadata": {
        "id": "10nwBseeh5zJ"
      },
      "execution_count": null,
      "outputs": []
    },
    {
      "cell_type": "code",
      "source": [
        "# 데이터셋 shape 변형\n"
      ],
      "metadata": {
        "id": "0fKS4_mXh7sZ"
      },
      "execution_count": null,
      "outputs": []
    },
    {
      "cell_type": "code",
      "source": [
        "# 변형한 shape 확인\n"
      ],
      "metadata": {
        "id": "_OgYRtE-h8iA"
      },
      "execution_count": null,
      "outputs": []
    },
    {
      "cell_type": "markdown",
      "source": [
        "# 4. 로지스틱 회귀"
      ],
      "metadata": {
        "id": "pU-Vz6NKygGQ"
      }
    },
    {
      "cell_type": "code",
      "source": [
        "# 필요한 package import\n"
      ],
      "metadata": {
        "id": "mdy7vTtzySE4"
      },
      "execution_count": null,
      "outputs": []
    },
    {
      "cell_type": "code",
      "source": [
        "# 모델 학습을 위한 로지스틱 회귀 생성\n"
      ],
      "metadata": {
        "id": "QqebiWJMyX65"
      },
      "execution_count": null,
      "outputs": []
    },
    {
      "cell_type": "code",
      "source": [
        "# 모델 학습\n"
      ],
      "metadata": {
        "id": "HD2U4KUYya0x"
      },
      "execution_count": null,
      "outputs": []
    },
    {
      "cell_type": "code",
      "source": [
        "# 테스트 데이터 예측\n"
      ],
      "metadata": {
        "id": "S46If7crylQS"
      },
      "execution_count": null,
      "outputs": []
    },
    {
      "cell_type": "code",
      "source": [
        "# 정확도 계산\n"
      ],
      "metadata": {
        "id": "O_ePyt4yy3Kx"
      },
      "execution_count": null,
      "outputs": []
    },
    {
      "cell_type": "markdown",
      "source": [
        "# 5. 의사결정 트리"
      ],
      "metadata": {
        "id": "g2C1wbo-zEfu"
      }
    },
    {
      "cell_type": "code",
      "source": [
        "# 필요한 package import\n"
      ],
      "metadata": {
        "id": "SmVFBCLiy99I"
      },
      "execution_count": null,
      "outputs": []
    },
    {
      "cell_type": "code",
      "source": [
        "# 모델 학습을 위한 의사 결정 트리 생성\n"
      ],
      "metadata": {
        "id": "tqGIDzWm0UOZ"
      },
      "execution_count": null,
      "outputs": []
    },
    {
      "cell_type": "code",
      "source": [
        "# 모델 학습\n"
      ],
      "metadata": {
        "id": "NO7lscVC0XUD"
      },
      "execution_count": null,
      "outputs": []
    },
    {
      "cell_type": "code",
      "source": [
        "# 테스트 데이터 예측\n"
      ],
      "metadata": {
        "id": "-yMvBJaN0fk3"
      },
      "execution_count": null,
      "outputs": []
    },
    {
      "cell_type": "code",
      "source": [
        "# 정확도 계산\n"
      ],
      "metadata": {
        "id": "n5DO59zd0hl_"
      },
      "execution_count": null,
      "outputs": []
    },
    {
      "cell_type": "markdown",
      "source": [
        "# 6. 랜덤 포레스트"
      ],
      "metadata": {
        "id": "2inzpbbS0vCp"
      }
    },
    {
      "cell_type": "code",
      "source": [
        "# 필요한 package import\n"
      ],
      "metadata": {
        "id": "XLOr3KG10qN_"
      },
      "execution_count": null,
      "outputs": []
    },
    {
      "cell_type": "code",
      "source": [
        "# 모델 학습을 위한 랜덤 포레스트 생성\n"
      ],
      "metadata": {
        "id": "X0D_6AZG0xoG"
      },
      "execution_count": null,
      "outputs": []
    },
    {
      "cell_type": "code",
      "source": [
        "# 모델 학습\n"
      ],
      "metadata": {
        "id": "wNEyg8vO01Yn"
      },
      "execution_count": null,
      "outputs": []
    },
    {
      "cell_type": "code",
      "source": [
        "# 테스트 데이터 예측\n"
      ],
      "metadata": {
        "id": "7JyZaP_Z02sZ"
      },
      "execution_count": null,
      "outputs": []
    },
    {
      "cell_type": "code",
      "source": [
        "# 정확도 계산\n"
      ],
      "metadata": {
        "id": "Hw5rO_Yb03tw"
      },
      "execution_count": null,
      "outputs": []
    },
    {
      "cell_type": "markdown",
      "source": [
        "# 7. DNN"
      ],
      "metadata": {
        "id": "ZblgNK9904tw"
      }
    },
    {
      "cell_type": "markdown",
      "source": [
        "## 7.1 epoch : 2"
      ],
      "metadata": {
        "id": "kMuxGlU8P0bY"
      }
    },
    {
      "cell_type": "code",
      "source": [
        "# 모델 claer\n"
      ],
      "metadata": {
        "id": "yXGEF2R6Qlzb"
      },
      "execution_count": null,
      "outputs": []
    },
    {
      "cell_type": "code",
      "source": [
        "# 모델 정의\n"
      ],
      "metadata": {
        "id": "8YFTq23Z07xv"
      },
      "execution_count": null,
      "outputs": []
    },
    {
      "cell_type": "code",
      "source": [
        "#학습 방법 지정\n",
        "#optimizer: 어떻게 Gradient Descent를 할지 선택, loss 함수 & 평가방법 선택\n"
      ],
      "metadata": {
        "id": "B9MEJjHlOn0E"
      },
      "execution_count": null,
      "outputs": []
    },
    {
      "cell_type": "code",
      "source": [
        "#학습\n"
      ],
      "metadata": {
        "id": "SXqQGCvaOqvt"
      },
      "execution_count": null,
      "outputs": []
    },
    {
      "cell_type": "code",
      "source": [
        "#평가\n"
      ],
      "metadata": {
        "id": "Mi6QhqPhO02t"
      },
      "execution_count": null,
      "outputs": []
    },
    {
      "cell_type": "markdown",
      "source": [
        "## 7.2 epoch : 10"
      ],
      "metadata": {
        "id": "fGyjQe_BQBiA"
      }
    },
    {
      "cell_type": "code",
      "source": [
        "# 모델 claer\n"
      ],
      "metadata": {
        "id": "Ii5eWzfOQYm2"
      },
      "execution_count": null,
      "outputs": []
    },
    {
      "cell_type": "code",
      "source": [
        "# 모델 정의\n",
        "\n",
        "\n",
        "#학습 방법 지정\n"
      ],
      "metadata": {
        "id": "Sgo2Vj1vUfL7"
      },
      "execution_count": null,
      "outputs": []
    },
    {
      "cell_type": "code",
      "source": [
        "#학습\n"
      ],
      "metadata": {
        "id": "1EDfWLiqPAq4"
      },
      "execution_count": null,
      "outputs": []
    },
    {
      "cell_type": "code",
      "source": [
        "# 평가\n"
      ],
      "metadata": {
        "id": "9lxD3DMGRu0B"
      },
      "execution_count": null,
      "outputs": []
    },
    {
      "cell_type": "markdown",
      "source": [
        "# 8. CNN"
      ],
      "metadata": {
        "id": "DFIjK6Us08VN"
      }
    },
    {
      "cell_type": "markdown",
      "source": [
        "## 8.1 epoch : 2"
      ],
      "metadata": {
        "id": "beAh9H_GPhWc"
      }
    },
    {
      "cell_type": "code",
      "source": [
        "# 모델 clear\n"
      ],
      "metadata": {
        "id": "-9pVZIdSQs1T"
      },
      "execution_count": null,
      "outputs": []
    },
    {
      "cell_type": "code",
      "source": [
        "# 모델 정의\n"
      ],
      "metadata": {
        "id": "h81gPQgL09xD"
      },
      "execution_count": null,
      "outputs": []
    },
    {
      "cell_type": "code",
      "source": [
        "#학습 방법 지정\n"
      ],
      "metadata": {
        "id": "qt2d8WJEPGy9"
      },
      "execution_count": null,
      "outputs": []
    },
    {
      "cell_type": "code",
      "source": [
        "#학습\n"
      ],
      "metadata": {
        "id": "PX-JZ9PBPPbV"
      },
      "execution_count": null,
      "outputs": []
    },
    {
      "cell_type": "code",
      "source": [
        "# 학습 과정 그래프로 출력\n"
      ],
      "metadata": {
        "id": "Bt8InR00PVRt"
      },
      "execution_count": null,
      "outputs": []
    },
    {
      "cell_type": "code",
      "source": [
        "# 평가\n"
      ],
      "metadata": {
        "id": "eLtxQoIvPar0"
      },
      "execution_count": null,
      "outputs": []
    },
    {
      "cell_type": "markdown",
      "source": [
        "## 8.2 epoch : 20"
      ],
      "metadata": {
        "id": "pbg5e6T5SKbi"
      }
    },
    {
      "cell_type": "code",
      "source": [
        "# 모델 clear\n"
      ],
      "metadata": {
        "id": "D2H1k2gPPerM"
      },
      "execution_count": null,
      "outputs": []
    },
    {
      "cell_type": "code",
      "source": [
        "# 모델 정의\n",
        "\n",
        "# 학습 방법 지정\n"
      ],
      "metadata": {
        "id": "EUsX4ib4UIj2"
      },
      "execution_count": null,
      "outputs": []
    },
    {
      "cell_type": "code",
      "source": [
        "#학습\n"
      ],
      "metadata": {
        "id": "z-Db0UpkSPw6"
      },
      "execution_count": null,
      "outputs": []
    },
    {
      "cell_type": "code",
      "source": [
        "# 학습 과정 그래프로 출력\n"
      ],
      "metadata": {
        "id": "j_4V7zMmSQTp"
      },
      "execution_count": null,
      "outputs": []
    },
    {
      "cell_type": "code",
      "source": [
        "# 평가\n"
      ],
      "metadata": {
        "id": "K13cDO0OSY3B"
      },
      "execution_count": null,
      "outputs": []
    },
    {
      "cell_type": "markdown",
      "source": [
        "# 9. 내 데이터로 예측"
      ],
      "metadata": {
        "id": "b_wE1XNcUu8R"
      }
    },
    {
      "cell_type": "code",
      "source": [
        "# 필요한 package import\n"
      ],
      "metadata": {
        "id": "vObearLETiy4"
      },
      "execution_count": null,
      "outputs": []
    },
    {
      "cell_type": "code",
      "source": [
        "# 그림판에서 붓으로 숫자를 그린 이미지 파일 가져오기\n",
        "# 파일 열어서 L(256단계 흑백이미지)로 변환\n"
      ],
      "metadata": {
        "id": "-eTEDdnETfZo"
      },
      "execution_count": null,
      "outputs": []
    },
    {
      "cell_type": "code",
      "source": [
        "# 이미지를 784개 흑백 픽셀로 사이즈 변환\n"
      ],
      "metadata": {
        "id": "fZrpVfRVVNiB"
      },
      "execution_count": null,
      "outputs": []
    },
    {
      "cell_type": "code",
      "source": [
        "# 데이터를 모델에 적용할 수 있도록 가공\n"
      ],
      "metadata": {
        "id": "4js-7_OAVUsv"
      },
      "execution_count": null,
      "outputs": []
    },
    {
      "cell_type": "code",
      "source": [
        "# 데이터 예측\n"
      ],
      "metadata": {
        "id": "Yz5kyfEcVW_j"
      },
      "execution_count": null,
      "outputs": []
    },
    {
      "cell_type": "code",
      "source": [
        "# 예측값 확인\n"
      ],
      "metadata": {
        "id": "efpD-KXJYD7s"
      },
      "execution_count": null,
      "outputs": []
    }
  ]
}
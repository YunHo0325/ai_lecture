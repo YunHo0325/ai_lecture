{
  "nbformat": 4,
  "nbformat_minor": 0,
  "metadata": {
    "colab": {
      "name": "environment_test.ipynb",
      "provenance": [],
      "collapsed_sections": [],
      "authorship_tag": "ABX9TyNVIJNZGFHCrIsovDcWOc85",
      "include_colab_link": true
    },
    "kernelspec": {
      "name": "python3",
      "display_name": "Python 3"
    },
    "language_info": {
      "name": "python"
    }
  },
  "cells": [
    {
      "cell_type": "markdown",
      "metadata": {
        "id": "view-in-github",
        "colab_type": "text"
      },
      "source": [
        "<a href=\"https://colab.research.google.com/github/YunHo0325/ai_lecture/blob/main/src/environment_test.ipynb\" target=\"_parent\"><img src=\"https://colab.research.google.com/assets/colab-badge.svg\" alt=\"Open In Colab\"/></a>"
      ]
    },
    {
      "cell_type": "markdown",
      "source": [
        "\n",
        "\n",
        "```\n",
        "# 코드로 형식 지정됨\n",
        "```\n",
        "\n",
        "데이터셋 다운로드\n",
        "1. housing.csv :  https://drive.google.com/file/d/1Z2HLQ0tsWKUJasu2_ZnXXCNCDxIRC0xh/view?usp=sharing\n",
        "2. seoul.csv :  https://drive.google.com/file/d/1bEYKFU3xTJihRRiMRJuxGDEP1HNrP8js/view?usp=sharing\n",
        "3. titanic\n",
        "    - train : https://drive.google.com/file/d/1ffImX491BcyAFgfRxyxORRzcQHAojVBC/view?usp=sharing\n",
        "    - test : https://drive.google.com/file/d/1xWa7-WUZYX3IlbpazcVtz4NpLkokB0O6/view?usp=sharing\n",
        "    - gender_submit : https://drive.google.com/file/d/1rHjAWF8m5huJQNekYG_6uiIBu9of7l6V/view?usp=sharing"
      ],
      "metadata": {
        "id": "HZzzHIdfsHWr"
      }
    },
    {
      "cell_type": "code",
      "execution_count": null,
      "metadata": {
        "id": "8TEGf4wfhLKe"
      },
      "outputs": [],
      "source": [
        "import pandas as pd\n",
        "import tensorflow as tf"
      ]
    },
    {
      "cell_type": "code",
      "source": [
        "df = pd.read_csv('sample_data/mnist_train_small.csv')"
      ],
      "metadata": {
        "id": "k3tr1cvJmxzQ"
      },
      "execution_count": null,
      "outputs": []
    },
    {
      "cell_type": "code",
      "source": [
        "df"
      ],
      "metadata": {
        "id": "kgk46ghYmyLo"
      },
      "execution_count": null,
      "outputs": []
    },
    {
      "cell_type": "code",
      "source": [
        "df = pd.read_csv('housing.csv')"
      ],
      "metadata": {
        "id": "sS3SjkIUhRQP"
      },
      "execution_count": null,
      "outputs": []
    },
    {
      "cell_type": "code",
      "source": [
        "df"
      ],
      "metadata": {
        "id": "SgdIeD8KmyoE"
      },
      "execution_count": null,
      "outputs": []
    }
  ]
}
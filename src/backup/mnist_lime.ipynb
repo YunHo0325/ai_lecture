{
  "nbformat": 4,
  "nbformat_minor": 0,
  "metadata": {
    "colab": {
      "name": "mnist_lime.ipynb",
      "provenance": [],
      "collapsed_sections": [],
      "mount_file_id": "1MrFNgnDEDxkjvQDfOzu9ZgjlDXo7tTB_",
      "authorship_tag": "ABX9TyP1ea6D1O7YFfTwFXGcSl78",
      "include_colab_link": true
    },
    "kernelspec": {
      "name": "python3",
      "display_name": "Python 3"
    },
    "language_info": {
      "name": "python"
    },
    "accelerator": "GPU",
    "widgets": {
      "application/vnd.jupyter.widget-state+json": {
        "e1f984384dc645aaace0080e0496835f": {
          "model_module": "@jupyter-widgets/controls",
          "model_name": "HBoxModel",
          "model_module_version": "1.5.0",
          "state": {
            "_view_name": "HBoxView",
            "_dom_classes": [],
            "_model_name": "HBoxModel",
            "_view_module": "@jupyter-widgets/controls",
            "_model_module_version": "1.5.0",
            "_view_count": null,
            "_view_module_version": "1.5.0",
            "box_style": "",
            "layout": "IPY_MODEL_94e6b812ec2944c79988b5f48401f39a",
            "_model_module": "@jupyter-widgets/controls",
            "children": [
              "IPY_MODEL_86b692cab4cb47c4a85109cabcd2cc0a",
              "IPY_MODEL_5d8abed296b843d395b1fb79edbbd25b",
              "IPY_MODEL_c9850e5159b84ca68a03247a8da3da53"
            ]
          }
        },
        "94e6b812ec2944c79988b5f48401f39a": {
          "model_module": "@jupyter-widgets/base",
          "model_name": "LayoutModel",
          "model_module_version": "1.2.0",
          "state": {
            "_view_name": "LayoutView",
            "grid_template_rows": null,
            "right": null,
            "justify_content": null,
            "_view_module": "@jupyter-widgets/base",
            "overflow": null,
            "_model_module_version": "1.2.0",
            "_view_count": null,
            "flex_flow": null,
            "width": null,
            "min_width": null,
            "border": null,
            "align_items": null,
            "bottom": null,
            "_model_module": "@jupyter-widgets/base",
            "top": null,
            "grid_column": null,
            "overflow_y": null,
            "overflow_x": null,
            "grid_auto_flow": null,
            "grid_area": null,
            "grid_template_columns": null,
            "flex": null,
            "_model_name": "LayoutModel",
            "justify_items": null,
            "grid_row": null,
            "max_height": null,
            "align_content": null,
            "visibility": null,
            "align_self": null,
            "height": null,
            "min_height": null,
            "padding": null,
            "grid_auto_rows": null,
            "grid_gap": null,
            "max_width": null,
            "order": null,
            "_view_module_version": "1.2.0",
            "grid_template_areas": null,
            "object_position": null,
            "object_fit": null,
            "grid_auto_columns": null,
            "margin": null,
            "display": null,
            "left": null
          }
        },
        "86b692cab4cb47c4a85109cabcd2cc0a": {
          "model_module": "@jupyter-widgets/controls",
          "model_name": "HTMLModel",
          "model_module_version": "1.5.0",
          "state": {
            "_view_name": "HTMLView",
            "style": "IPY_MODEL_62ec72e989c946f0b0c11cb6338dee51",
            "_dom_classes": [],
            "description": "",
            "_model_name": "HTMLModel",
            "placeholder": "​",
            "_view_module": "@jupyter-widgets/controls",
            "_model_module_version": "1.5.0",
            "value": "100%",
            "_view_count": null,
            "_view_module_version": "1.5.0",
            "description_tooltip": null,
            "_model_module": "@jupyter-widgets/controls",
            "layout": "IPY_MODEL_03ad9972c9644b8a82a88758baddb391"
          }
        },
        "5d8abed296b843d395b1fb79edbbd25b": {
          "model_module": "@jupyter-widgets/controls",
          "model_name": "FloatProgressModel",
          "model_module_version": "1.5.0",
          "state": {
            "_view_name": "ProgressView",
            "style": "IPY_MODEL_e5a9ebeaad4940a8b5912782bd3e87e9",
            "_dom_classes": [],
            "description": "",
            "_model_name": "FloatProgressModel",
            "bar_style": "success",
            "max": 500,
            "_view_module": "@jupyter-widgets/controls",
            "_model_module_version": "1.5.0",
            "value": 500,
            "_view_count": null,
            "_view_module_version": "1.5.0",
            "orientation": "horizontal",
            "min": 0,
            "description_tooltip": null,
            "_model_module": "@jupyter-widgets/controls",
            "layout": "IPY_MODEL_411ce7f4fbe84e55b5b10674c6625c4a"
          }
        },
        "c9850e5159b84ca68a03247a8da3da53": {
          "model_module": "@jupyter-widgets/controls",
          "model_name": "HTMLModel",
          "model_module_version": "1.5.0",
          "state": {
            "_view_name": "HTMLView",
            "style": "IPY_MODEL_c843da92e43446ec910139850b4141fa",
            "_dom_classes": [],
            "description": "",
            "_model_name": "HTMLModel",
            "placeholder": "​",
            "_view_module": "@jupyter-widgets/controls",
            "_model_module_version": "1.5.0",
            "value": " 500/500 [00:03&lt;00:00, 151.61it/s]",
            "_view_count": null,
            "_view_module_version": "1.5.0",
            "description_tooltip": null,
            "_model_module": "@jupyter-widgets/controls",
            "layout": "IPY_MODEL_28fe2ae4f42b40a9a6a1e11d9c21f0e0"
          }
        },
        "62ec72e989c946f0b0c11cb6338dee51": {
          "model_module": "@jupyter-widgets/controls",
          "model_name": "DescriptionStyleModel",
          "model_module_version": "1.5.0",
          "state": {
            "_view_name": "StyleView",
            "_model_name": "DescriptionStyleModel",
            "description_width": "",
            "_view_module": "@jupyter-widgets/base",
            "_model_module_version": "1.5.0",
            "_view_count": null,
            "_view_module_version": "1.2.0",
            "_model_module": "@jupyter-widgets/controls"
          }
        },
        "03ad9972c9644b8a82a88758baddb391": {
          "model_module": "@jupyter-widgets/base",
          "model_name": "LayoutModel",
          "model_module_version": "1.2.0",
          "state": {
            "_view_name": "LayoutView",
            "grid_template_rows": null,
            "right": null,
            "justify_content": null,
            "_view_module": "@jupyter-widgets/base",
            "overflow": null,
            "_model_module_version": "1.2.0",
            "_view_count": null,
            "flex_flow": null,
            "width": null,
            "min_width": null,
            "border": null,
            "align_items": null,
            "bottom": null,
            "_model_module": "@jupyter-widgets/base",
            "top": null,
            "grid_column": null,
            "overflow_y": null,
            "overflow_x": null,
            "grid_auto_flow": null,
            "grid_area": null,
            "grid_template_columns": null,
            "flex": null,
            "_model_name": "LayoutModel",
            "justify_items": null,
            "grid_row": null,
            "max_height": null,
            "align_content": null,
            "visibility": null,
            "align_self": null,
            "height": null,
            "min_height": null,
            "padding": null,
            "grid_auto_rows": null,
            "grid_gap": null,
            "max_width": null,
            "order": null,
            "_view_module_version": "1.2.0",
            "grid_template_areas": null,
            "object_position": null,
            "object_fit": null,
            "grid_auto_columns": null,
            "margin": null,
            "display": null,
            "left": null
          }
        },
        "e5a9ebeaad4940a8b5912782bd3e87e9": {
          "model_module": "@jupyter-widgets/controls",
          "model_name": "ProgressStyleModel",
          "model_module_version": "1.5.0",
          "state": {
            "_view_name": "StyleView",
            "_model_name": "ProgressStyleModel",
            "description_width": "",
            "_view_module": "@jupyter-widgets/base",
            "_model_module_version": "1.5.0",
            "_view_count": null,
            "_view_module_version": "1.2.0",
            "bar_color": null,
            "_model_module": "@jupyter-widgets/controls"
          }
        },
        "411ce7f4fbe84e55b5b10674c6625c4a": {
          "model_module": "@jupyter-widgets/base",
          "model_name": "LayoutModel",
          "model_module_version": "1.2.0",
          "state": {
            "_view_name": "LayoutView",
            "grid_template_rows": null,
            "right": null,
            "justify_content": null,
            "_view_module": "@jupyter-widgets/base",
            "overflow": null,
            "_model_module_version": "1.2.0",
            "_view_count": null,
            "flex_flow": null,
            "width": null,
            "min_width": null,
            "border": null,
            "align_items": null,
            "bottom": null,
            "_model_module": "@jupyter-widgets/base",
            "top": null,
            "grid_column": null,
            "overflow_y": null,
            "overflow_x": null,
            "grid_auto_flow": null,
            "grid_area": null,
            "grid_template_columns": null,
            "flex": null,
            "_model_name": "LayoutModel",
            "justify_items": null,
            "grid_row": null,
            "max_height": null,
            "align_content": null,
            "visibility": null,
            "align_self": null,
            "height": null,
            "min_height": null,
            "padding": null,
            "grid_auto_rows": null,
            "grid_gap": null,
            "max_width": null,
            "order": null,
            "_view_module_version": "1.2.0",
            "grid_template_areas": null,
            "object_position": null,
            "object_fit": null,
            "grid_auto_columns": null,
            "margin": null,
            "display": null,
            "left": null
          }
        },
        "c843da92e43446ec910139850b4141fa": {
          "model_module": "@jupyter-widgets/controls",
          "model_name": "DescriptionStyleModel",
          "model_module_version": "1.5.0",
          "state": {
            "_view_name": "StyleView",
            "_model_name": "DescriptionStyleModel",
            "description_width": "",
            "_view_module": "@jupyter-widgets/base",
            "_model_module_version": "1.5.0",
            "_view_count": null,
            "_view_module_version": "1.2.0",
            "_model_module": "@jupyter-widgets/controls"
          }
        },
        "28fe2ae4f42b40a9a6a1e11d9c21f0e0": {
          "model_module": "@jupyter-widgets/base",
          "model_name": "LayoutModel",
          "model_module_version": "1.2.0",
          "state": {
            "_view_name": "LayoutView",
            "grid_template_rows": null,
            "right": null,
            "justify_content": null,
            "_view_module": "@jupyter-widgets/base",
            "overflow": null,
            "_model_module_version": "1.2.0",
            "_view_count": null,
            "flex_flow": null,
            "width": null,
            "min_width": null,
            "border": null,
            "align_items": null,
            "bottom": null,
            "_model_module": "@jupyter-widgets/base",
            "top": null,
            "grid_column": null,
            "overflow_y": null,
            "overflow_x": null,
            "grid_auto_flow": null,
            "grid_area": null,
            "grid_template_columns": null,
            "flex": null,
            "_model_name": "LayoutModel",
            "justify_items": null,
            "grid_row": null,
            "max_height": null,
            "align_content": null,
            "visibility": null,
            "align_self": null,
            "height": null,
            "min_height": null,
            "padding": null,
            "grid_auto_rows": null,
            "grid_gap": null,
            "max_width": null,
            "order": null,
            "_view_module_version": "1.2.0",
            "grid_template_areas": null,
            "object_position": null,
            "object_fit": null,
            "grid_auto_columns": null,
            "margin": null,
            "display": null,
            "left": null
          }
        }
      }
    }
  },
  "cells": [
    {
      "cell_type": "markdown",
      "metadata": {
        "id": "view-in-github",
        "colab_type": "text"
      },
      "source": [
        "<a href=\"https://colab.research.google.com/github/YunHo0325/ai_lecture/blob/main/src/mnist_lime.ipynb\" target=\"_parent\"><img src=\"https://colab.research.google.com/assets/colab-badge.svg\" alt=\"Open In Colab\"/></a>"
      ]
    },
    {
      "cell_type": "code",
      "source": [
        "!pip install lime"
      ],
      "metadata": {
        "colab": {
          "base_uri": "https://localhost:8080/"
        },
        "id": "xg4hDzYQP19f",
        "outputId": "7cc7088b-167e-417c-cbff-7c06e544a024"
      },
      "execution_count": 1,
      "outputs": [
        {
          "output_type": "stream",
          "name": "stdout",
          "text": [
            "Collecting lime\n",
            "  Downloading lime-0.2.0.1.tar.gz (275 kB)\n",
            "\u001b[?25l\r\u001b[K     |█▏                              | 10 kB 26.5 MB/s eta 0:00:01\r\u001b[K     |██▍                             | 20 kB 28.6 MB/s eta 0:00:01\r\u001b[K     |███▋                            | 30 kB 32.9 MB/s eta 0:00:01\r\u001b[K     |████▊                           | 40 kB 34.0 MB/s eta 0:00:01\r\u001b[K     |██████                          | 51 kB 26.2 MB/s eta 0:00:01\r\u001b[K     |███████▏                        | 61 kB 22.8 MB/s eta 0:00:01\r\u001b[K     |████████▎                       | 71 kB 19.8 MB/s eta 0:00:01\r\u001b[K     |█████████▌                      | 81 kB 21.0 MB/s eta 0:00:01\r\u001b[K     |██████████▊                     | 92 kB 22.1 MB/s eta 0:00:01\r\u001b[K     |███████████▉                    | 102 kB 21.0 MB/s eta 0:00:01\r\u001b[K     |█████████████                   | 112 kB 21.0 MB/s eta 0:00:01\r\u001b[K     |██████████████▎                 | 122 kB 21.0 MB/s eta 0:00:01\r\u001b[K     |███████████████▌                | 133 kB 21.0 MB/s eta 0:00:01\r\u001b[K     |████████████████▋               | 143 kB 21.0 MB/s eta 0:00:01\r\u001b[K     |█████████████████▉              | 153 kB 21.0 MB/s eta 0:00:01\r\u001b[K     |███████████████████             | 163 kB 21.0 MB/s eta 0:00:01\r\u001b[K     |████████████████████▏           | 174 kB 21.0 MB/s eta 0:00:01\r\u001b[K     |█████████████████████▍          | 184 kB 21.0 MB/s eta 0:00:01\r\u001b[K     |██████████████████████▋         | 194 kB 21.0 MB/s eta 0:00:01\r\u001b[K     |███████████████████████▊        | 204 kB 21.0 MB/s eta 0:00:01\r\u001b[K     |█████████████████████████       | 215 kB 21.0 MB/s eta 0:00:01\r\u001b[K     |██████████████████████████▏     | 225 kB 21.0 MB/s eta 0:00:01\r\u001b[K     |███████████████████████████▍    | 235 kB 21.0 MB/s eta 0:00:01\r\u001b[K     |████████████████████████████▌   | 245 kB 21.0 MB/s eta 0:00:01\r\u001b[K     |█████████████████████████████▊  | 256 kB 21.0 MB/s eta 0:00:01\r\u001b[K     |███████████████████████████████ | 266 kB 21.0 MB/s eta 0:00:01\r\u001b[K     |████████████████████████████████| 275 kB 21.0 MB/s \n",
            "\u001b[?25hRequirement already satisfied: matplotlib in /usr/local/lib/python3.7/dist-packages (from lime) (3.2.2)\n",
            "Requirement already satisfied: numpy in /usr/local/lib/python3.7/dist-packages (from lime) (1.19.5)\n",
            "Requirement already satisfied: scipy in /usr/local/lib/python3.7/dist-packages (from lime) (1.4.1)\n",
            "Requirement already satisfied: tqdm in /usr/local/lib/python3.7/dist-packages (from lime) (4.62.3)\n",
            "Requirement already satisfied: scikit-learn>=0.18 in /usr/local/lib/python3.7/dist-packages (from lime) (1.0.1)\n",
            "Requirement already satisfied: scikit-image>=0.12 in /usr/local/lib/python3.7/dist-packages (from lime) (0.18.3)\n",
            "Requirement already satisfied: tifffile>=2019.7.26 in /usr/local/lib/python3.7/dist-packages (from scikit-image>=0.12->lime) (2021.11.2)\n",
            "Requirement already satisfied: networkx>=2.0 in /usr/local/lib/python3.7/dist-packages (from scikit-image>=0.12->lime) (2.6.3)\n",
            "Requirement already satisfied: pillow!=7.1.0,!=7.1.1,>=4.3.0 in /usr/local/lib/python3.7/dist-packages (from scikit-image>=0.12->lime) (7.1.2)\n",
            "Requirement already satisfied: imageio>=2.3.0 in /usr/local/lib/python3.7/dist-packages (from scikit-image>=0.12->lime) (2.4.1)\n",
            "Requirement already satisfied: PyWavelets>=1.1.1 in /usr/local/lib/python3.7/dist-packages (from scikit-image>=0.12->lime) (1.2.0)\n",
            "Requirement already satisfied: python-dateutil>=2.1 in /usr/local/lib/python3.7/dist-packages (from matplotlib->lime) (2.8.2)\n",
            "Requirement already satisfied: kiwisolver>=1.0.1 in /usr/local/lib/python3.7/dist-packages (from matplotlib->lime) (1.3.2)\n",
            "Requirement already satisfied: cycler>=0.10 in /usr/local/lib/python3.7/dist-packages (from matplotlib->lime) (0.11.0)\n",
            "Requirement already satisfied: pyparsing!=2.0.4,!=2.1.2,!=2.1.6,>=2.0.1 in /usr/local/lib/python3.7/dist-packages (from matplotlib->lime) (3.0.6)\n",
            "Requirement already satisfied: six>=1.5 in /usr/local/lib/python3.7/dist-packages (from python-dateutil>=2.1->matplotlib->lime) (1.15.0)\n",
            "Requirement already satisfied: threadpoolctl>=2.0.0 in /usr/local/lib/python3.7/dist-packages (from scikit-learn>=0.18->lime) (3.0.0)\n",
            "Requirement already satisfied: joblib>=0.11 in /usr/local/lib/python3.7/dist-packages (from scikit-learn>=0.18->lime) (1.1.0)\n",
            "Building wheels for collected packages: lime\n",
            "  Building wheel for lime (setup.py) ... \u001b[?25l\u001b[?25hdone\n",
            "  Created wheel for lime: filename=lime-0.2.0.1-py3-none-any.whl size=283857 sha256=f41420f45147d8c7c87fd6e0cba588ce6c758b2252a77217570c6b4ddc27a5c5\n",
            "  Stored in directory: /root/.cache/pip/wheels/ca/cb/e5/ac701e12d365a08917bf4c6171c0961bc880a8181359c66aa7\n",
            "Successfully built lime\n",
            "Installing collected packages: lime\n",
            "Successfully installed lime-0.2.0.1\n"
          ]
        }
      ]
    },
    {
      "cell_type": "code",
      "execution_count": 22,
      "metadata": {
        "id": "Mr18gw3fPqXk"
      },
      "outputs": [],
      "source": [
        "import tensorflow as tf\n",
        "import matplotlib.pyplot as plt\n",
        "import numpy as np \n",
        "\n",
        "from tensorflow.keras.models import Sequential\n",
        "from tensorflow.keras.layers import Dense, Dropout, Flatten, Conv2D, MaxPooling2D\n",
        "from tensorflow.keras.models import load_model\n",
        "\n",
        "from sklearn.model_selection import train_test_split\n",
        "\n",
        "from lime import lime_image\n",
        "from lime.wrappers.scikit_image import SegmentationAlgorithm\n",
        "from skimage.color import gray2rgb, rgb2gray, label2rgb\n",
        "from skimage.util import montage as montage2d\n",
        "from skimage.segmentation import mark_boundaries\n",
        "%matplotlib inline"
      ]
    },
    {
      "cell_type": "code",
      "source": [
        "def cnnModel():\n",
        "    model = Sequential()\n",
        "    model.add(Conv2D(32, kernel_size=(5, 5), strides=(1, 1), padding='same',\n",
        "                    activation='relu',\n",
        "                    input_shape=(28, 28, 3)))\n",
        "    model.add(MaxPooling2D(pool_size=(2, 2), strides=(2, 2)))\n",
        "    model.add(Conv2D(64, (2, 2), activation='relu', padding='same'))\n",
        "    model.add(MaxPooling2D(pool_size=(2, 2)))\n",
        "    model.add(Dropout(0.25))\n",
        "    model.add(Flatten())\n",
        "    model.add(Dense(1000, activation='relu'))\n",
        "    model.add(Dropout(0.5))\n",
        "    model.add(Dense(10, activation='softmax'))\n",
        "\n",
        "    return model"
      ],
      "metadata": {
        "id": "yLqhQKISzWTD"
      },
      "execution_count": 3,
      "outputs": []
    },
    {
      "cell_type": "code",
      "source": [
        "mnist = tf.keras.datasets.mnist\n",
        "(x_train, y_train), (x_test, y_test) = mnist.load_data()\n",
        "x_train, x_test = x_train/255.0, x_test/255.0"
      ],
      "metadata": {
        "colab": {
          "base_uri": "https://localhost:8080/"
        },
        "id": "h9HN14F6lKn3",
        "outputId": "9617b717-5dab-40af-8e32-47fd4dce2b0a"
      },
      "execution_count": 4,
      "outputs": [
        {
          "output_type": "stream",
          "name": "stdout",
          "text": [
            "Downloading data from https://storage.googleapis.com/tensorflow/tf-keras-datasets/mnist.npz\n",
            "11493376/11490434 [==============================] - 0s 0us/step\n",
            "11501568/11490434 [==============================] - 0s 0us/step\n"
          ]
        }
      ]
    },
    {
      "cell_type": "code",
      "source": [
        " x_train = np.stack([gray2rgb(iimg) for iimg in x_train], 0)\n",
        " x_test = np.stack([gray2rgb(iimg) for iimg in x_test], 0)"
      ],
      "metadata": {
        "id": "UCAeu6a7zFox"
      },
      "execution_count": 5,
      "outputs": []
    },
    {
      "cell_type": "code",
      "source": [
        "x_train, x_val, y_train, y_val = train_test_split(x_train, \n",
        "                                                  y_train, \n",
        "                                                  test_size=0.3, \n",
        "                                                  random_state=2020)"
      ],
      "metadata": {
        "id": "StS3yKRnzker"
      },
      "execution_count": 6,
      "outputs": []
    },
    {
      "cell_type": "code",
      "source": [
        "y_train_oh = tf.keras.utils.to_categorical(y_train)\n",
        "y_val_oh = tf.keras.utils.to_categorical(y_val)\n",
        "y_test_oh = tf.keras.utils.to_categorical(y_test)"
      ],
      "metadata": {
        "id": "IpC0U7l7zwbz"
      },
      "execution_count": 8,
      "outputs": []
    },
    {
      "cell_type": "code",
      "source": [
        "tf.keras.backend.clear_session()    # 세션 초기화\n",
        "model = cnnModel()\n",
        "\n",
        "# 모델 컴파일 : loss = 'categorical_crossentropy'\n",
        "model.compile(optimizer='adam',\n",
        "            loss='categorical_crossentropy',\n",
        "            metrics=['accuracy'])\n",
        "model.summary()"
      ],
      "metadata": {
        "colab": {
          "base_uri": "https://localhost:8080/"
        },
        "id": "wCx8p7cOzqvC",
        "outputId": "06cd7a1b-4d80-4f5a-fa9e-58f7fab21718"
      },
      "execution_count": 10,
      "outputs": [
        {
          "output_type": "stream",
          "name": "stdout",
          "text": [
            "Model: \"sequential\"\n",
            "_________________________________________________________________\n",
            " Layer (type)                Output Shape              Param #   \n",
            "=================================================================\n",
            " conv2d (Conv2D)             (None, 28, 28, 32)        2432      \n",
            "                                                                 \n",
            " max_pooling2d (MaxPooling2D  (None, 14, 14, 32)       0         \n",
            " )                                                               \n",
            "                                                                 \n",
            " conv2d_1 (Conv2D)           (None, 14, 14, 64)        8256      \n",
            "                                                                 \n",
            " max_pooling2d_1 (MaxPooling  (None, 7, 7, 64)         0         \n",
            " 2D)                                                             \n",
            "                                                                 \n",
            " dropout (Dropout)           (None, 7, 7, 64)          0         \n",
            "                                                                 \n",
            " flatten (Flatten)           (None, 3136)              0         \n",
            "                                                                 \n",
            " dense (Dense)               (None, 1000)              3137000   \n",
            "                                                                 \n",
            " dropout_1 (Dropout)         (None, 1000)              0         \n",
            "                                                                 \n",
            " dense_1 (Dense)             (None, 10)                10010     \n",
            "                                                                 \n",
            "=================================================================\n",
            "Total params: 3,157,698\n",
            "Trainable params: 3,157,698\n",
            "Non-trainable params: 0\n",
            "_________________________________________________________________\n"
          ]
        }
      ]
    },
    {
      "cell_type": "code",
      "source": [
        "# 모델 훈련\n",
        "history = model.fit(x_train, y_train_oh, \n",
        "                    epochs=5,\n",
        "                    validation_data=(x_val, y_val_oh))"
      ],
      "metadata": {
        "colab": {
          "base_uri": "https://localhost:8080/"
        },
        "id": "c3QT4FdyzsJS",
        "outputId": "1ad67e9d-7e49-4a99-a0fa-dab912c042a4"
      },
      "execution_count": 11,
      "outputs": [
        {
          "output_type": "stream",
          "name": "stdout",
          "text": [
            "Epoch 1/5\n",
            "1313/1313 [==============================] - 95s 72ms/step - loss: 0.1486 - accuracy: 0.9528 - val_loss: 0.0540 - val_accuracy: 0.9841\n",
            "Epoch 2/5\n",
            "1313/1313 [==============================] - 94s 71ms/step - loss: 0.0621 - accuracy: 0.9796 - val_loss: 0.0605 - val_accuracy: 0.9816\n",
            "Epoch 3/5\n",
            "1313/1313 [==============================] - 93s 71ms/step - loss: 0.0487 - accuracy: 0.9851 - val_loss: 0.0494 - val_accuracy: 0.9861\n",
            "Epoch 4/5\n",
            "1313/1313 [==============================] - 96s 73ms/step - loss: 0.0421 - accuracy: 0.9869 - val_loss: 0.0513 - val_accuracy: 0.9862\n",
            "Epoch 5/5\n",
            "1313/1313 [==============================] - 94s 72ms/step - loss: 0.0346 - accuracy: 0.9889 - val_loss: 0.0547 - val_accuracy: 0.9837\n"
          ]
        }
      ]
    },
    {
      "cell_type": "code",
      "source": [
        "def predict(data):\n",
        "    data = data.reshape(-1, 28, 28, 3)\n",
        "    pred = model.predict(data)\n",
        "    return pred"
      ],
      "metadata": {
        "id": "_SoBxiMZoBtv"
      },
      "execution_count": 19,
      "outputs": []
    },
    {
      "cell_type": "code",
      "source": [
        "explainer = lime_image.LimeImageExplainer()\n",
        "\n",
        "# 이미지 분할 알고리즘 : quickshift(기본), slic, felzenszwalb\n",
        "segmenter = SegmentationAlgorithm('slic',\n",
        "                                 n_segments=100,\n",
        "                                 compactness=1,\n",
        "                                 sigma=1)"
      ],
      "metadata": {
        "id": "wwtY34nbk43U"
      },
      "execution_count": 13,
      "outputs": []
    },
    {
      "cell_type": "code",
      "source": [
        "idx= 1\n",
        "exp = explainer.explain_instance(x_test[idx],\n",
        "                                 classifier_fn=predict,\n",
        "                                 top_labels=10,\n",
        "                                 num_samples=500,\n",
        "                                 segmentation_fn=segmenter\n",
        "                                )"
      ],
      "metadata": {
        "colab": {
          "base_uri": "https://localhost:8080/",
          "height": 105,
          "referenced_widgets": [
            "e1f984384dc645aaace0080e0496835f",
            "94e6b812ec2944c79988b5f48401f39a",
            "86b692cab4cb47c4a85109cabcd2cc0a",
            "5d8abed296b843d395b1fb79edbbd25b",
            "c9850e5159b84ca68a03247a8da3da53",
            "62ec72e989c946f0b0c11cb6338dee51",
            "03ad9972c9644b8a82a88758baddb391",
            "e5a9ebeaad4940a8b5912782bd3e87e9",
            "411ce7f4fbe84e55b5b10674c6625c4a",
            "c843da92e43446ec910139850b4141fa",
            "28fe2ae4f42b40a9a6a1e11d9c21f0e0"
          ]
        },
        "id": "veuZIZoEk-s4",
        "outputId": "5f2f91bc-92b8-4843-a9ac-62ade274b554"
      },
      "execution_count": 20,
      "outputs": [
        {
          "output_type": "stream",
          "name": "stderr",
          "text": [
            "/usr/local/lib/python3.7/dist-packages/lime/wrappers/scikit_image.py:117: FutureWarning: skimage.measure.label's indexing starts from 0. In future version it will start from 1. To disable this warning, explicitely set the `start_label` parameter to 1.\n",
            "  return self.target_fn(args[0], **self.target_params)\n"
          ]
        },
        {
          "output_type": "display_data",
          "data": {
            "application/vnd.jupyter.widget-view+json": {
              "model_id": "e1f984384dc645aaace0080e0496835f",
              "version_minor": 0,
              "version_major": 2
            },
            "text/plain": [
              "  0%|          | 0/500 [00:00<?, ?it/s]"
            ]
          },
          "metadata": {}
        }
      ]
    },
    {
      "cell_type": "code",
      "source": [
        "print(f\"class : {y_test[idx]}, pred : {np.argmax(predict(x_test[idx]))}\")\n",
        "fig, ((ax1, ax2, ax3, ax4)) = plt.subplots(1, 4, figsize=(20, 20))\n",
        "\n",
        "# 에측에 도움이 되는 세그먼트 출력\n",
        "temp, mask = exp.get_image_and_mask(y_test[idx], \n",
        "                                   positive_only=True,\n",
        "                                   num_features=8,\n",
        "                                   hide_rest=False)\n",
        "# ax1.imshow(mark_boundaries(temp, mask))\n",
        "ax1.imshow(label2rgb(mask, temp, bg_label = 0),\n",
        "          interpolation = 'nearest')\n",
        "ax1.set_title(f'Positive Regions for {y_test[idx]}')\n",
        "\n",
        "# 모든 세그먼트 출력\n",
        "temp, mask = exp.get_image_and_mask(y_test[idx], \n",
        "                                   positive_only=False,\n",
        "                                   num_features=8,\n",
        "                                   hide_rest=False)\n",
        "# ax2.imshow(mark_boundaries(temp, 4-mask))\n",
        "ax2.imshow(label2rgb(4-mask, temp, bg_label = 0),\n",
        "          interpolation = 'nearest')\n",
        "ax2.set_title(f'Positive/Negative Regions for {y_test[idx]}')\n",
        "\n",
        "# 이미지만 출력\n",
        "ax3.imshow(temp, interpolation='nearest')\n",
        "ax3.set_title('Show output image only')\n",
        "\n",
        "# 마스크만 출력\n",
        "ax4.imshow(mask, interpolation = 'nearest')\n",
        "ax4.set_title('Show mask only')"
      ],
      "metadata": {
        "colab": {
          "base_uri": "https://localhost:8080/",
          "height": 276
        },
        "id": "G55Q6BglowPy",
        "outputId": "936be835-6b44-416b-a6d6-1e05e81797f1"
      },
      "execution_count": 25,
      "outputs": [
        {
          "output_type": "stream",
          "name": "stdout",
          "text": [
            "class : 2, pred : 2\n"
          ]
        },
        {
          "output_type": "execute_result",
          "data": {
            "text/plain": [
              "Text(0.5, 1.0, 'Show mask only')"
            ]
          },
          "metadata": {},
          "execution_count": 25
        },
        {
          "output_type": "display_data",
          "data": {
            "image/png": "[encoded data removed]",
            "text/plain": [
              "<Figure size 1440x1440 with 4 Axes>"
            ]
          },
          "metadata": {
            "needs_background": "light"
          }
        }
      ]
    },
    {
      "cell_type": "code",
      "source": [
        ""
      ],
      "metadata": {
        "id": "qS_faUFglBLX"
      },
      "execution_count": null,
      "outputs": []
    }
  ]
}
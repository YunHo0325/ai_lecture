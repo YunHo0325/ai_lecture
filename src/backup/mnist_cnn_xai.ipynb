{
  "nbformat": 4,
  "nbformat_minor": 0,
  "metadata": {
    "colab": {
      "name": "mnist_cnn_xai.ipynb",
      "provenance": [],
      "collapsed_sections": [],
      "authorship_tag": "ABX9TyMS4X1QNCyNNDLJk34YtFXh",
      "include_colab_link": true
    },
    "kernelspec": {
      "name": "python3",
      "display_name": "Python 3"
    },
    "language_info": {
      "name": "python"
    },
    "widgets": {
      "application/vnd.jupyter.widget-state+json": {
        "7a7a75e33c3c48bcb37faa77f4abb0ee": {
          "model_module": "@jupyter-widgets/controls",
          "model_name": "HBoxModel",
          "model_module_version": "1.5.0",
          "state": {
            "_view_name": "HBoxView",
            "_dom_classes": [],
            "_model_name": "HBoxModel",
            "_view_module": "@jupyter-widgets/controls",
            "_model_module_version": "1.5.0",
            "_view_count": null,
            "_view_module_version": "1.5.0",
            "box_style": "",
            "layout": "IPY_MODEL_4bfbc22d10ea45dd9278626b178b0746",
            "_model_module": "@jupyter-widgets/controls",
            "children": [
              "IPY_MODEL_13ed4f2066f3404ab58e540bcde0d279",
              "IPY_MODEL_cb7c1cfd752843ea954b0164c005ca2c",
              "IPY_MODEL_d8ff603a789b4653b8ed3d517983685c"
            ]
          }
        },
        "4bfbc22d10ea45dd9278626b178b0746": {
          "model_module": "@jupyter-widgets/base",
          "model_name": "LayoutModel",
          "model_module_version": "1.2.0",
          "state": {
            "_view_name": "LayoutView",
            "grid_template_rows": null,
            "right": null,
            "justify_content": null,
            "_view_module": "@jupyter-widgets/base",
            "overflow": null,
            "_model_module_version": "1.2.0",
            "_view_count": null,
            "flex_flow": null,
            "width": null,
            "min_width": null,
            "border": null,
            "align_items": null,
            "bottom": null,
            "_model_module": "@jupyter-widgets/base",
            "top": null,
            "grid_column": null,
            "overflow_y": null,
            "overflow_x": null,
            "grid_auto_flow": null,
            "grid_area": null,
            "grid_template_columns": null,
            "flex": null,
            "_model_name": "LayoutModel",
            "justify_items": null,
            "grid_row": null,
            "max_height": null,
            "align_content": null,
            "visibility": null,
            "align_self": null,
            "height": null,
            "min_height": null,
            "padding": null,
            "grid_auto_rows": null,
            "grid_gap": null,
            "max_width": null,
            "order": null,
            "_view_module_version": "1.2.0",
            "grid_template_areas": null,
            "object_position": null,
            "object_fit": null,
            "grid_auto_columns": null,
            "margin": null,
            "display": null,
            "left": null
          }
        },
        "13ed4f2066f3404ab58e540bcde0d279": {
          "model_module": "@jupyter-widgets/controls",
          "model_name": "HTMLModel",
          "model_module_version": "1.5.0",
          "state": {
            "_view_name": "HTMLView",
            "style": "IPY_MODEL_c5a89dcaab19445aad2317239125d1da",
            "_dom_classes": [],
            "description": "",
            "_model_name": "HTMLModel",
            "placeholder": "​",
            "_view_module": "@jupyter-widgets/controls",
            "_model_module_version": "1.5.0",
            "value": "100%",
            "_view_count": null,
            "_view_module_version": "1.5.0",
            "description_tooltip": null,
            "_model_module": "@jupyter-widgets/controls",
            "layout": "IPY_MODEL_1c703b2d4de445eba66dcb0ade24e384"
          }
        },
        "cb7c1cfd752843ea954b0164c005ca2c": {
          "model_module": "@jupyter-widgets/controls",
          "model_name": "FloatProgressModel",
          "model_module_version": "1.5.0",
          "state": {
            "_view_name": "ProgressView",
            "style": "IPY_MODEL_74c51844379148d3b7094740567cd99b",
            "_dom_classes": [],
            "description": "",
            "_model_name": "FloatProgressModel",
            "bar_style": "success",
            "max": 500,
            "_view_module": "@jupyter-widgets/controls",
            "_model_module_version": "1.5.0",
            "value": 500,
            "_view_count": null,
            "_view_module_version": "1.5.0",
            "orientation": "horizontal",
            "min": 0,
            "description_tooltip": null,
            "_model_module": "@jupyter-widgets/controls",
            "layout": "IPY_MODEL_4d5d786a198144e499b0728e25042f72"
          }
        },
        "d8ff603a789b4653b8ed3d517983685c": {
          "model_module": "@jupyter-widgets/controls",
          "model_name": "HTMLModel",
          "model_module_version": "1.5.0",
          "state": {
            "_view_name": "HTMLView",
            "style": "IPY_MODEL_ebcf811b2bd4434ca3d2b343f082d7af",
            "_dom_classes": [],
            "description": "",
            "_model_name": "HTMLModel",
            "placeholder": "​",
            "_view_module": "@jupyter-widgets/controls",
            "_model_module_version": "1.5.0",
            "value": " 500/500 [00:03&lt;00:00, 150.13it/s]",
            "_view_count": null,
            "_view_module_version": "1.5.0",
            "description_tooltip": null,
            "_model_module": "@jupyter-widgets/controls",
            "layout": "IPY_MODEL_e28af76be0074c1ab23fa57478fc1c3d"
          }
        },
        "c5a89dcaab19445aad2317239125d1da": {
          "model_module": "@jupyter-widgets/controls",
          "model_name": "DescriptionStyleModel",
          "model_module_version": "1.5.0",
          "state": {
            "_view_name": "StyleView",
            "_model_name": "DescriptionStyleModel",
            "description_width": "",
            "_view_module": "@jupyter-widgets/base",
            "_model_module_version": "1.5.0",
            "_view_count": null,
            "_view_module_version": "1.2.0",
            "_model_module": "@jupyter-widgets/controls"
          }
        },
        "1c703b2d4de445eba66dcb0ade24e384": {
          "model_module": "@jupyter-widgets/base",
          "model_name": "LayoutModel",
          "model_module_version": "1.2.0",
          "state": {
            "_view_name": "LayoutView",
            "grid_template_rows": null,
            "right": null,
            "justify_content": null,
            "_view_module": "@jupyter-widgets/base",
            "overflow": null,
            "_model_module_version": "1.2.0",
            "_view_count": null,
            "flex_flow": null,
            "width": null,
            "min_width": null,
            "border": null,
            "align_items": null,
            "bottom": null,
            "_model_module": "@jupyter-widgets/base",
            "top": null,
            "grid_column": null,
            "overflow_y": null,
            "overflow_x": null,
            "grid_auto_flow": null,
            "grid_area": null,
            "grid_template_columns": null,
            "flex": null,
            "_model_name": "LayoutModel",
            "justify_items": null,
            "grid_row": null,
            "max_height": null,
            "align_content": null,
            "visibility": null,
            "align_self": null,
            "height": null,
            "min_height": null,
            "padding": null,
            "grid_auto_rows": null,
            "grid_gap": null,
            "max_width": null,
            "order": null,
            "_view_module_version": "1.2.0",
            "grid_template_areas": null,
            "object_position": null,
            "object_fit": null,
            "grid_auto_columns": null,
            "margin": null,
            "display": null,
            "left": null
          }
        },
        "74c51844379148d3b7094740567cd99b": {
          "model_module": "@jupyter-widgets/controls",
          "model_name": "ProgressStyleModel",
          "model_module_version": "1.5.0",
          "state": {
            "_view_name": "StyleView",
            "_model_name": "ProgressStyleModel",
            "description_width": "",
            "_view_module": "@jupyter-widgets/base",
            "_model_module_version": "1.5.0",
            "_view_count": null,
            "_view_module_version": "1.2.0",
            "bar_color": null,
            "_model_module": "@jupyter-widgets/controls"
          }
        },
        "4d5d786a198144e499b0728e25042f72": {
          "model_module": "@jupyter-widgets/base",
          "model_name": "LayoutModel",
          "model_module_version": "1.2.0",
          "state": {
            "_view_name": "LayoutView",
            "grid_template_rows": null,
            "right": null,
            "justify_content": null,
            "_view_module": "@jupyter-widgets/base",
            "overflow": null,
            "_model_module_version": "1.2.0",
            "_view_count": null,
            "flex_flow": null,
            "width": null,
            "min_width": null,
            "border": null,
            "align_items": null,
            "bottom": null,
            "_model_module": "@jupyter-widgets/base",
            "top": null,
            "grid_column": null,
            "overflow_y": null,
            "overflow_x": null,
            "grid_auto_flow": null,
            "grid_area": null,
            "grid_template_columns": null,
            "flex": null,
            "_model_name": "LayoutModel",
            "justify_items": null,
            "grid_row": null,
            "max_height": null,
            "align_content": null,
            "visibility": null,
            "align_self": null,
            "height": null,
            "min_height": null,
            "padding": null,
            "grid_auto_rows": null,
            "grid_gap": null,
            "max_width": null,
            "order": null,
            "_view_module_version": "1.2.0",
            "grid_template_areas": null,
            "object_position": null,
            "object_fit": null,
            "grid_auto_columns": null,
            "margin": null,
            "display": null,
            "left": null
          }
        },
        "ebcf811b2bd4434ca3d2b343f082d7af": {
          "model_module": "@jupyter-widgets/controls",
          "model_name": "DescriptionStyleModel",
          "model_module_version": "1.5.0",
          "state": {
            "_view_name": "StyleView",
            "_model_name": "DescriptionStyleModel",
            "description_width": "",
            "_view_module": "@jupyter-widgets/base",
            "_model_module_version": "1.5.0",
            "_view_count": null,
            "_view_module_version": "1.2.0",
            "_model_module": "@jupyter-widgets/controls"
          }
        },
        "e28af76be0074c1ab23fa57478fc1c3d": {
          "model_module": "@jupyter-widgets/base",
          "model_name": "LayoutModel",
          "model_module_version": "1.2.0",
          "state": {
            "_view_name": "LayoutView",
            "grid_template_rows": null,
            "right": null,
            "justify_content": null,
            "_view_module": "@jupyter-widgets/base",
            "overflow": null,
            "_model_module_version": "1.2.0",
            "_view_count": null,
            "flex_flow": null,
            "width": null,
            "min_width": null,
            "border": null,
            "align_items": null,
            "bottom": null,
            "_model_module": "@jupyter-widgets/base",
            "top": null,
            "grid_column": null,
            "overflow_y": null,
            "overflow_x": null,
            "grid_auto_flow": null,
            "grid_area": null,
            "grid_template_columns": null,
            "flex": null,
            "_model_name": "LayoutModel",
            "justify_items": null,
            "grid_row": null,
            "max_height": null,
            "align_content": null,
            "visibility": null,
            "align_self": null,
            "height": null,
            "min_height": null,
            "padding": null,
            "grid_auto_rows": null,
            "grid_gap": null,
            "max_width": null,
            "order": null,
            "_view_module_version": "1.2.0",
            "grid_template_areas": null,
            "object_position": null,
            "object_fit": null,
            "grid_auto_columns": null,
            "margin": null,
            "display": null,
            "left": null
          }
        }
      }
    },
    "accelerator": "GPU"
  },
  "cells": [
    {
      "cell_type": "markdown",
      "metadata": {
        "id": "view-in-github",
        "colab_type": "text"
      },
      "source": [
        "<a href=\"https://colab.research.google.com/github/YunHo0325/ai_lecture/blob/main/src/mnist_cnn_xai.ipynb\" target=\"_parent\"><img src=\"https://colab.research.google.com/assets/colab-badge.svg\" alt=\"Open In Colab\"/></a>"
      ]
    },
    {
      "cell_type": "code",
      "execution_count": null,
      "metadata": {
        "colab": {
          "base_uri": "https://localhost:8080/"
        },
        "id": "58KdvNEEw0G4",
        "outputId": "1e896e5b-6e7c-4c33-cd5f-5966e0ae9f40"
      },
      "outputs": [
        {
          "output_type": "stream",
          "name": "stdout",
          "text": [
            "Requirement already satisfied: lime in /usr/local/lib/python3.7/dist-packages (0.2.0.1)\n",
            "Requirement already satisfied: matplotlib in /usr/local/lib/python3.7/dist-packages (from lime) (3.2.2)\n",
            "Requirement already satisfied: numpy in /usr/local/lib/python3.7/dist-packages (from lime) (1.19.5)\n",
            "Requirement already satisfied: scikit-learn>=0.18 in /usr/local/lib/python3.7/dist-packages (from lime) (1.0.2)\n",
            "Requirement already satisfied: tqdm in /usr/local/lib/python3.7/dist-packages (from lime) (4.62.3)\n",
            "Requirement already satisfied: scikit-image>=0.12 in /usr/local/lib/python3.7/dist-packages (from lime) (0.18.3)\n",
            "Requirement already satisfied: scipy in /usr/local/lib/python3.7/dist-packages (from lime) (1.4.1)\n",
            "Requirement already satisfied: tifffile>=2019.7.26 in /usr/local/lib/python3.7/dist-packages (from scikit-image>=0.12->lime) (2021.11.2)\n",
            "Requirement already satisfied: PyWavelets>=1.1.1 in /usr/local/lib/python3.7/dist-packages (from scikit-image>=0.12->lime) (1.2.0)\n",
            "Requirement already satisfied: pillow!=7.1.0,!=7.1.1,>=4.3.0 in /usr/local/lib/python3.7/dist-packages (from scikit-image>=0.12->lime) (7.1.2)\n",
            "Requirement already satisfied: networkx>=2.0 in /usr/local/lib/python3.7/dist-packages (from scikit-image>=0.12->lime) (2.6.3)\n",
            "Requirement already satisfied: imageio>=2.3.0 in /usr/local/lib/python3.7/dist-packages (from scikit-image>=0.12->lime) (2.4.1)\n",
            "Requirement already satisfied: cycler>=0.10 in /usr/local/lib/python3.7/dist-packages (from matplotlib->lime) (0.11.0)\n",
            "Requirement already satisfied: pyparsing!=2.0.4,!=2.1.2,!=2.1.6,>=2.0.1 in /usr/local/lib/python3.7/dist-packages (from matplotlib->lime) (3.0.6)\n",
            "Requirement already satisfied: python-dateutil>=2.1 in /usr/local/lib/python3.7/dist-packages (from matplotlib->lime) (2.8.2)\n",
            "Requirement already satisfied: kiwisolver>=1.0.1 in /usr/local/lib/python3.7/dist-packages (from matplotlib->lime) (1.3.2)\n",
            "Requirement already satisfied: six>=1.5 in /usr/local/lib/python3.7/dist-packages (from python-dateutil>=2.1->matplotlib->lime) (1.15.0)\n",
            "Requirement already satisfied: joblib>=0.11 in /usr/local/lib/python3.7/dist-packages (from scikit-learn>=0.18->lime) (1.1.0)\n",
            "Requirement already satisfied: threadpoolctl>=2.0.0 in /usr/local/lib/python3.7/dist-packages (from scikit-learn>=0.18->lime) (3.0.0)\n"
          ]
        }
      ],
      "source": [
        "!pip install lime"
      ]
    },
    {
      "cell_type": "code",
      "source": [
        "import tensorflow as tf\n",
        "import matplotlib.pyplot as plt\n",
        "import numpy as np \n",
        "\n",
        "from tensorflow.keras.models import Sequential\n",
        "from tensorflow.keras.layers import Dense, Dropout, Flatten, Conv2D, MaxPooling2D\n",
        "from tensorflow.keras.models import load_model\n",
        "\n",
        "from sklearn.model_selection import train_test_split\n",
        "\n",
        "from lime import lime_image\n",
        "from lime.wrappers.scikit_image import SegmentationAlgorithm\n",
        "from skimage.color import gray2rgb, label2rgb\n",
        "from skimage.segmentation import mark_boundaries\n",
        "%matplotlib inline"
      ],
      "metadata": {
        "id": "gc9FdqyJy6lX"
      },
      "execution_count": null,
      "outputs": []
    },
    {
      "cell_type": "code",
      "source": [
        "tf.__version__"
      ],
      "metadata": {
        "colab": {
          "base_uri": "https://localhost:8080/",
          "height": 35
        },
        "id": "gBzmqtaaL1fn",
        "outputId": "ea145c39-7d72-4abf-d4d2-1083f74de1b0"
      },
      "execution_count": null,
      "outputs": [
        {
          "output_type": "execute_result",
          "data": {
            "application/vnd.google.colaboratory.intrinsic+json": {
              "type": "string"
            },
            "text/plain": [
              "'2.7.0'"
            ]
          },
          "metadata": {},
          "execution_count": 6
        }
      ]
    },
    {
      "cell_type": "code",
      "source": [
        "def cnnModel():\n",
        "    model = Sequential()\n",
        "    model.add(Conv2D(32, kernel_size=(5, 5), strides=(1, 1), padding='same',\n",
        "                    activation='relu',\n",
        "                    input_shape=(28, 28, 3)))\n",
        "    model.add(MaxPooling2D(pool_size=(2, 2), strides=(2, 2)))\n",
        "    model.add(Conv2D(64, (2, 2), activation='relu', padding='same'))\n",
        "    model.add(MaxPooling2D(pool_size=(2, 2)))\n",
        "    model.add(Dropout(0.25))\n",
        "    model.add(Flatten())\n",
        "    model.add(Dense(1000, activation='relu'))\n",
        "    model.add(Dropout(0.5))\n",
        "    model.add(Dense(10, activation='softmax'))\n",
        "\n",
        "    return model"
      ],
      "metadata": {
        "id": "nGhQ7HIxy7_e"
      },
      "execution_count": null,
      "outputs": []
    },
    {
      "cell_type": "code",
      "source": [
        "mnist = tf.keras.datasets.mnist\n",
        "(x_train, y_train), (x_test, y_test) = mnist.load_data()\n",
        "x_train, x_test = x_train/255.0, x_test/255.0"
      ],
      "metadata": {
        "id": "kFxUOxfMy-UF",
        "colab": {
          "base_uri": "https://localhost:8080/"
        },
        "outputId": "51df4a68-4358-425e-e3ba-70d367ef6cfa"
      },
      "execution_count": null,
      "outputs": [
        {
          "output_type": "stream",
          "name": "stdout",
          "text": [
            "Downloading data from https://storage.googleapis.com/tensorflow/tf-keras-datasets/mnist.npz\n",
            "11493376/11490434 [==============================] - 0s 0us/step\n",
            "11501568/11490434 [==============================] - 0s 0us/step\n"
          ]
        }
      ]
    },
    {
      "cell_type": "code",
      "source": [
        "x_train = np.stack([gray2rgb(iimg) for iimg in x_train], 0)\n",
        "x_test = np.stack([gray2rgb(iimg) for iimg in x_test], 0)"
      ],
      "metadata": {
        "id": "0sanu1-rz3uO"
      },
      "execution_count": null,
      "outputs": []
    },
    {
      "cell_type": "code",
      "source": [
        "x_train, x_val, y_train, y_val = train_test_split(x_train, \n",
        "                                                  y_train, \n",
        "                                                  test_size=0.3, \n",
        "                                                  random_state=2020)"
      ],
      "metadata": {
        "id": "Mr2HDQ1Nz79d"
      },
      "execution_count": null,
      "outputs": []
    },
    {
      "cell_type": "code",
      "source": [
        "y_train_oh = tf.keras.utils.to_categorical(y_train)\n",
        "y_val_oh = tf.keras.utils.to_categorical(y_val)\n",
        "y_test_oh = tf.keras.utils.to_categorical(y_test)"
      ],
      "metadata": {
        "id": "69uhH3QF9XVY"
      },
      "execution_count": null,
      "outputs": []
    },
    {
      "cell_type": "markdown",
      "source": [
        "## epoch 별 정확도 비교"
      ],
      "metadata": {
        "id": "l9T-nEmeLn9E"
      }
    },
    {
      "cell_type": "markdown",
      "source": [
        "- epoch : 5"
      ],
      "metadata": {
        "id": "BXPTk_H-MYNr"
      }
    },
    {
      "cell_type": "code",
      "source": [
        "tf.keras.backend.clear_session()    # 세션 초기화\n",
        "model = cnnModel()\n",
        "\n",
        "# 모델 컴파일 : loss = 'categorical_crossentropy'\n",
        "model.compile(optimizer='adam',\n",
        "            loss='categorical_crossentropy',\n",
        "            metrics=['accuracy'])\n",
        "model.summary()"
      ],
      "metadata": {
        "colab": {
          "base_uri": "https://localhost:8080/"
        },
        "id": "IeWz_mZ49ZPW",
        "outputId": "6492171d-5d4e-492e-ad26-9098968a50f5"
      },
      "execution_count": null,
      "outputs": [
        {
          "output_type": "stream",
          "name": "stdout",
          "text": [
            "Model: \"sequential\"\n",
            "_________________________________________________________________\n",
            " Layer (type)                Output Shape              Param #   \n",
            "=================================================================\n",
            " conv2d (Conv2D)             (None, 28, 28, 32)        2432      \n",
            "                                                                 \n",
            " max_pooling2d (MaxPooling2D  (None, 14, 14, 32)       0         \n",
            " )                                                               \n",
            "                                                                 \n",
            " conv2d_1 (Conv2D)           (None, 14, 14, 64)        8256      \n",
            "                                                                 \n",
            " max_pooling2d_1 (MaxPooling  (None, 7, 7, 64)         0         \n",
            " 2D)                                                             \n",
            "                                                                 \n",
            " dropout (Dropout)           (None, 7, 7, 64)          0         \n",
            "                                                                 \n",
            " flatten (Flatten)           (None, 3136)              0         \n",
            "                                                                 \n",
            " dense (Dense)               (None, 1000)              3137000   \n",
            "                                                                 \n",
            " dropout_1 (Dropout)         (None, 1000)              0         \n",
            "                                                                 \n",
            " dense_1 (Dense)             (None, 10)                10010     \n",
            "                                                                 \n",
            "=================================================================\n",
            "Total params: 3,157,698\n",
            "Trainable params: 3,157,698\n",
            "Non-trainable params: 0\n",
            "_________________________________________________________________\n"
          ]
        }
      ]
    },
    {
      "cell_type": "code",
      "source": [
        "# 모델 훈련\n",
        "epoch = 5\n",
        "history = model.fit(x_train, y_train_oh, \n",
        "                    epochs=epoch,\n",
        "                    validation_data=(x_val, y_val_oh))"
      ],
      "metadata": {
        "colab": {
          "base_uri": "https://localhost:8080/"
        },
        "id": "whlLFocw9tSx",
        "outputId": "52c5ba61-1101-435f-9d6e-a2ce51e582c0"
      },
      "execution_count": null,
      "outputs": [
        {
          "output_type": "stream",
          "name": "stdout",
          "text": [
            "Epoch 1/5\n",
            "1313/1313 [==============================] - 24s 7ms/step - loss: 0.1601 - accuracy: 0.9506 - val_loss: 0.0509 - val_accuracy: 0.9848\n",
            "Epoch 2/5\n",
            "1313/1313 [==============================] - 9s 7ms/step - loss: 0.0616 - accuracy: 0.9807 - val_loss: 0.0425 - val_accuracy: 0.9868\n",
            "Epoch 3/5\n",
            "1313/1313 [==============================] - 9s 7ms/step - loss: 0.0502 - accuracy: 0.9844 - val_loss: 0.0447 - val_accuracy: 0.9866\n",
            "Epoch 4/5\n",
            "1313/1313 [==============================] - 9s 7ms/step - loss: 0.0392 - accuracy: 0.9880 - val_loss: 0.0425 - val_accuracy: 0.9880\n",
            "Epoch 5/5\n",
            "1313/1313 [==============================] - 9s 6ms/step - loss: 0.0351 - accuracy: 0.9889 - val_loss: 0.0362 - val_accuracy: 0.9899\n"
          ]
        }
      ]
    },
    {
      "cell_type": "code",
      "source": [
        "model.evaluate(x_test, y_test_oh)"
      ],
      "metadata": {
        "colab": {
          "base_uri": "https://localhost:8080/"
        },
        "id": "yLTXwLxaLnPj",
        "outputId": "8fcd294f-8eb2-4363-9a77-a9acacf04b01"
      },
      "execution_count": null,
      "outputs": [
        {
          "output_type": "stream",
          "name": "stdout",
          "text": [
            "313/313 [==============================] - 1s 4ms/step - loss: 0.0269 - accuracy: 0.9918\n"
          ]
        },
        {
          "output_type": "execute_result",
          "data": {
            "text/plain": [
              "[0.0268934927880764, 0.9918000102043152]"
            ]
          },
          "metadata": {},
          "execution_count": 11
        }
      ]
    },
    {
      "cell_type": "code",
      "source": [
        "loss, acc, val_loss, val_acc  = history.history.values()\n",
        "\n",
        "fig, loss_ax = plt.subplots()\n",
        "acc_ax = loss_ax.twinx()\n",
        "\n",
        "loss_ax.plot(loss, 'y', label='train loss')\n",
        "loss_ax.plot(val_loss, 'r', label='val loss')\n",
        "loss_ax.set_xlabel('epoch')\n",
        "loss_ax.set_ylabel('loss')\n",
        "loss_ax.legend(loc='upper left')\n",
        "\n",
        "acc_ax.plot(acc, 'b', label='train acc')\n",
        "acc_ax.plot(val_acc, 'g', label='val acc')\n",
        "acc_ax.set_ylabel('accuracy')\n",
        "acc_ax.legend(loc='lower left')\n",
        "\n",
        "plt.show()"
      ],
      "metadata": {
        "colab": {
          "base_uri": "https://localhost:8080/",
          "height": 281
        },
        "id": "jW6eXRaMQCCo",
        "outputId": "cff2bc0b-cd04-4e9a-dbf8-e2f34cf2c6d6"
      },
      "execution_count": null,
      "outputs": [
        {
          "output_type": "display_data",
          "data": {
            "image/png": "[encoded data removed]",
            "text/plain": [
              "<Figure size 432x288 with 2 Axes>"
            ]
          },
          "metadata": {
            "needs_background": "light"
          }
        }
      ]
    },
    {
      "cell_type": "markdown",
      "source": [
        "- epoch : 10"
      ],
      "metadata": {
        "id": "yQKRk295QE2U"
      }
    },
    {
      "cell_type": "code",
      "source": [
        "tf.keras.backend.clear_session()    # 세션 초기화\n",
        "model = cnnModel()\n",
        "\n",
        "# 모델 컴파일 : loss = 'categorical_crossentropy'\n",
        "model.compile(optimizer='adam',\n",
        "            loss='categorical_crossentropy',\n",
        "            metrics=['accuracy'])\n",
        "model.summary()"
      ],
      "metadata": {
        "colab": {
          "base_uri": "https://localhost:8080/"
        },
        "id": "THi7LZblQEUZ",
        "outputId": "892c8e90-aa5c-4568-9228-5a17bc504c88"
      },
      "execution_count": null,
      "outputs": [
        {
          "output_type": "stream",
          "name": "stdout",
          "text": [
            "Model: \"sequential\"\n",
            "_________________________________________________________________\n",
            " Layer (type)                Output Shape              Param #   \n",
            "=================================================================\n",
            " conv2d (Conv2D)             (None, 28, 28, 32)        2432      \n",
            "                                                                 \n",
            " max_pooling2d (MaxPooling2D  (None, 14, 14, 32)       0         \n",
            " )                                                               \n",
            "                                                                 \n",
            " conv2d_1 (Conv2D)           (None, 14, 14, 64)        8256      \n",
            "                                                                 \n",
            " max_pooling2d_1 (MaxPooling  (None, 7, 7, 64)         0         \n",
            " 2D)                                                             \n",
            "                                                                 \n",
            " dropout (Dropout)           (None, 7, 7, 64)          0         \n",
            "                                                                 \n",
            " flatten (Flatten)           (None, 3136)              0         \n",
            "                                                                 \n",
            " dense (Dense)               (None, 1000)              3137000   \n",
            "                                                                 \n",
            " dropout_1 (Dropout)         (None, 1000)              0         \n",
            "                                                                 \n",
            " dense_1 (Dense)             (None, 10)                10010     \n",
            "                                                                 \n",
            "=================================================================\n",
            "Total params: 3,157,698\n",
            "Trainable params: 3,157,698\n",
            "Non-trainable params: 0\n",
            "_________________________________________________________________\n"
          ]
        }
      ]
    },
    {
      "cell_type": "code",
      "source": [
        "# 모델 훈련\n",
        "epoch = 10\n",
        "history = model.fit(x_train, y_train_oh, \n",
        "                    epochs=epoch,\n",
        "                    validation_data=(x_val, y_val_oh))"
      ],
      "metadata": {
        "colab": {
          "base_uri": "https://localhost:8080/"
        },
        "id": "oH3iMdW7QOcR",
        "outputId": "af05bab1-0454-4ec2-b11d-d362ccdd5197"
      },
      "execution_count": null,
      "outputs": [
        {
          "output_type": "stream",
          "name": "stdout",
          "text": [
            "Epoch 1/10\n",
            "1313/1313 [==============================] - 101s 77ms/step - loss: 0.1478 - accuracy: 0.9530 - val_loss: 0.0630 - val_accuracy: 0.9805\n",
            "Epoch 2/10\n",
            "1313/1313 [==============================] - 100s 76ms/step - loss: 0.0604 - accuracy: 0.9813 - val_loss: 0.0480 - val_accuracy: 0.9854\n",
            "Epoch 3/10\n",
            "1313/1313 [==============================] - 99s 76ms/step - loss: 0.0463 - accuracy: 0.9853 - val_loss: 0.0342 - val_accuracy: 0.9897\n",
            "Epoch 4/10\n",
            "1313/1313 [==============================] - 99s 76ms/step - loss: 0.0398 - accuracy: 0.9873 - val_loss: 0.0454 - val_accuracy: 0.9867\n",
            "Epoch 5/10\n",
            "1313/1313 [==============================] - 99s 75ms/step - loss: 0.0333 - accuracy: 0.9899 - val_loss: 0.0399 - val_accuracy: 0.9887\n",
            "Epoch 6/10\n",
            "1313/1313 [==============================] - 103s 78ms/step - loss: 0.0296 - accuracy: 0.9910 - val_loss: 0.0415 - val_accuracy: 0.9881\n",
            "Epoch 7/10\n",
            "1313/1313 [==============================] - 102s 77ms/step - loss: 0.0292 - accuracy: 0.9903 - val_loss: 0.0358 - val_accuracy: 0.9904\n",
            "Epoch 8/10\n",
            "1313/1313 [==============================] - 102s 78ms/step - loss: 0.0236 - accuracy: 0.9927 - val_loss: 0.0453 - val_accuracy: 0.9893\n",
            "Epoch 9/10\n",
            "1313/1313 [==============================] - 102s 77ms/step - loss: 0.0243 - accuracy: 0.9926 - val_loss: 0.0379 - val_accuracy: 0.9908\n",
            "Epoch 10/10\n",
            "1313/1313 [==============================] - 102s 78ms/step - loss: 0.0207 - accuracy: 0.9934 - val_loss: 0.0432 - val_accuracy: 0.9901\n"
          ]
        }
      ]
    },
    {
      "cell_type": "code",
      "source": [
        "model.evaluate(x_test, y_test_oh)"
      ],
      "metadata": {
        "colab": {
          "base_uri": "https://localhost:8080/"
        },
        "id": "8UIInSaGQQZ5",
        "outputId": "8d86479f-8b85-411a-cd60-9556a94847de"
      },
      "execution_count": null,
      "outputs": [
        {
          "output_type": "stream",
          "name": "stdout",
          "text": [
            "313/313 [==============================] - 6s 20ms/step - loss: 0.0367 - accuracy: 0.9904\n"
          ]
        },
        {
          "output_type": "execute_result",
          "data": {
            "text/plain": [
              "[0.036723777651786804, 0.9904000163078308]"
            ]
          },
          "metadata": {},
          "execution_count": 15
        }
      ]
    },
    {
      "cell_type": "code",
      "source": [
        "loss, acc, val_loss, val_acc  = history.history.values()\n",
        "\n",
        "fig, loss_ax = plt.subplots()\n",
        "acc_ax = loss_ax.twinx()\n",
        "\n",
        "loss_ax.plot(loss, 'y', label='train loss')\n",
        "loss_ax.plot(val_loss, 'r', label='val loss')\n",
        "loss_ax.set_xlabel('epoch')\n",
        "loss_ax.set_ylabel('loss')\n",
        "loss_ax.legend(loc='upper left')\n",
        "\n",
        "acc_ax.plot(acc, 'b', label='train acc')\n",
        "acc_ax.plot(val_acc, 'g', label='val acc')\n",
        "acc_ax.set_ylabel('accuracy')\n",
        "acc_ax.legend(loc='lower left')\n",
        "\n",
        "plt.show()"
      ],
      "metadata": {
        "id": "M_CCBuPwQRJp",
        "colab": {
          "base_uri": "https://localhost:8080/",
          "height": 281
        },
        "outputId": "bd44448b-ed7a-4aa9-97ba-91cae56b4d3a"
      },
      "execution_count": null,
      "outputs": [
        {
          "output_type": "display_data",
          "data": {
            "image/png": "[encoded data removed]",
            "text/plain": [
              "<Figure size 432x288 with 2 Axes>"
            ]
          },
          "metadata": {
            "needs_background": "light"
          }
        }
      ]
    },
    {
      "cell_type": "markdown",
      "source": [
        "- epoch : 50"
      ],
      "metadata": {
        "id": "sne_-9IsMab_"
      }
    },
    {
      "cell_type": "code",
      "source": [
        "tf.keras.backend.clear_session()    # 세션 초기화\n",
        "model = cnnModel()\n",
        "\n",
        "# 모델 컴파일 : loss = 'categorical_crossentropy'\n",
        "model.compile(optimizer='adam',\n",
        "            loss='categorical_crossentropy',\n",
        "            metrics=['accuracy'])\n",
        "model.summary()"
      ],
      "metadata": {
        "colab": {
          "base_uri": "https://localhost:8080/"
        },
        "id": "1qOGZYS5MdUs",
        "outputId": "10d93dce-a36c-4b50-d510-8f460b57fc24"
      },
      "execution_count": null,
      "outputs": [
        {
          "output_type": "stream",
          "name": "stdout",
          "text": [
            "Model: \"sequential\"\n",
            "_________________________________________________________________\n",
            " Layer (type)                Output Shape              Param #   \n",
            "=================================================================\n",
            " conv2d (Conv2D)             (None, 28, 28, 32)        2432      \n",
            "                                                                 \n",
            " max_pooling2d (MaxPooling2D  (None, 14, 14, 32)       0         \n",
            " )                                                               \n",
            "                                                                 \n",
            " conv2d_1 (Conv2D)           (None, 14, 14, 64)        8256      \n",
            "                                                                 \n",
            " max_pooling2d_1 (MaxPooling  (None, 7, 7, 64)         0         \n",
            " 2D)                                                             \n",
            "                                                                 \n",
            " dropout (Dropout)           (None, 7, 7, 64)          0         \n",
            "                                                                 \n",
            " flatten (Flatten)           (None, 3136)              0         \n",
            "                                                                 \n",
            " dense (Dense)               (None, 1000)              3137000   \n",
            "                                                                 \n",
            " dropout_1 (Dropout)         (None, 1000)              0         \n",
            "                                                                 \n",
            " dense_1 (Dense)             (None, 10)                10010     \n",
            "                                                                 \n",
            "=================================================================\n",
            "Total params: 3,157,698\n",
            "Trainable params: 3,157,698\n",
            "Non-trainable params: 0\n",
            "_________________________________________________________________\n"
          ]
        }
      ]
    },
    {
      "cell_type": "code",
      "source": [
        "# 모델 훈련\n",
        "epoch = 50\n",
        "history = model.fit(x_train, y_train_oh, \n",
        "                    epochs=epoch,\n",
        "                    validation_data=(x_val, y_val_oh))"
      ],
      "metadata": {
        "colab": {
          "base_uri": "https://localhost:8080/"
        },
        "id": "DGvTiubRMeGJ",
        "outputId": "7b26f123-7110-46c9-ad87-641c57f4e880"
      },
      "execution_count": null,
      "outputs": [
        {
          "output_type": "stream",
          "name": "stdout",
          "text": [
            "Epoch 1/50\n",
            "1313/1313 [==============================] - 104s 78ms/step - loss: 0.1522 - accuracy: 0.9515 - val_loss: 0.0517 - val_accuracy: 0.9852\n",
            "Epoch 2/50\n",
            "1313/1313 [==============================] - 102s 78ms/step - loss: 0.0640 - accuracy: 0.9796 - val_loss: 0.0409 - val_accuracy: 0.9878\n",
            "Epoch 3/50\n",
            "1313/1313 [==============================] - 102s 78ms/step - loss: 0.0489 - accuracy: 0.9853 - val_loss: 0.0395 - val_accuracy: 0.9883\n",
            "Epoch 4/50\n",
            "1313/1313 [==============================] - 103s 78ms/step - loss: 0.0379 - accuracy: 0.9878 - val_loss: 0.0332 - val_accuracy: 0.9903\n",
            "Epoch 5/50\n",
            "1313/1313 [==============================] - 105s 80ms/step - loss: 0.0350 - accuracy: 0.9899 - val_loss: 0.0433 - val_accuracy: 0.9872\n",
            "Epoch 6/50\n",
            "1313/1313 [==============================] - 103s 78ms/step - loss: 0.0307 - accuracy: 0.9901 - val_loss: 0.0410 - val_accuracy: 0.9886\n",
            "Epoch 7/50\n",
            "1313/1313 [==============================] - 102s 78ms/step - loss: 0.0283 - accuracy: 0.9910 - val_loss: 0.0358 - val_accuracy: 0.9901\n",
            "Epoch 8/50\n",
            "1313/1313 [==============================] - 102s 77ms/step - loss: 0.0265 - accuracy: 0.9916 - val_loss: 0.0477 - val_accuracy: 0.9879\n",
            "Epoch 9/50\n",
            "1313/1313 [==============================] - 101s 77ms/step - loss: 0.0233 - accuracy: 0.9927 - val_loss: 0.0412 - val_accuracy: 0.9899\n",
            "Epoch 10/50\n",
            "1313/1313 [==============================] - 103s 78ms/step - loss: 0.0213 - accuracy: 0.9929 - val_loss: 0.0357 - val_accuracy: 0.9908\n",
            "Epoch 11/50\n",
            "1313/1313 [==============================] - 101s 77ms/step - loss: 0.0199 - accuracy: 0.9940 - val_loss: 0.0420 - val_accuracy: 0.9908\n",
            "Epoch 12/50\n",
            "1313/1313 [==============================] - 102s 78ms/step - loss: 0.0207 - accuracy: 0.9940 - val_loss: 0.0431 - val_accuracy: 0.9906\n",
            "Epoch 13/50\n",
            "1313/1313 [==============================] - 101s 77ms/step - loss: 0.0179 - accuracy: 0.9947 - val_loss: 0.0564 - val_accuracy: 0.9900\n",
            "Epoch 14/50\n",
            "1313/1313 [==============================] - 101s 77ms/step - loss: 0.0167 - accuracy: 0.9950 - val_loss: 0.0534 - val_accuracy: 0.9907\n",
            "Epoch 15/50\n",
            "1313/1313 [==============================] - 102s 77ms/step - loss: 0.0179 - accuracy: 0.9945 - val_loss: 0.0488 - val_accuracy: 0.9914\n",
            "Epoch 16/50\n",
            "1313/1313 [==============================] - 102s 78ms/step - loss: 0.0178 - accuracy: 0.9947 - val_loss: 0.0524 - val_accuracy: 0.9893\n",
            "Epoch 17/50\n",
            "1313/1313 [==============================] - 102s 78ms/step - loss: 0.0171 - accuracy: 0.9950 - val_loss: 0.0445 - val_accuracy: 0.9908\n",
            "Epoch 18/50\n",
            "1313/1313 [==============================] - 101s 77ms/step - loss: 0.0154 - accuracy: 0.9960 - val_loss: 0.0472 - val_accuracy: 0.9924\n",
            "Epoch 19/50\n",
            "1313/1313 [==============================] - 102s 78ms/step - loss: 0.0156 - accuracy: 0.9956 - val_loss: 0.0462 - val_accuracy: 0.9917\n",
            "Epoch 20/50\n",
            "1313/1313 [==============================] - 103s 78ms/step - loss: 0.0132 - accuracy: 0.9963 - val_loss: 0.0545 - val_accuracy: 0.9907\n",
            "Epoch 21/50\n",
            "1313/1313 [==============================] - 104s 79ms/step - loss: 0.0144 - accuracy: 0.9959 - val_loss: 0.0509 - val_accuracy: 0.9916\n",
            "Epoch 22/50\n",
            "1313/1313 [==============================] - 104s 79ms/step - loss: 0.0148 - accuracy: 0.9957 - val_loss: 0.0540 - val_accuracy: 0.9922\n",
            "Epoch 23/50\n",
            "1313/1313 [==============================] - 102s 77ms/step - loss: 0.0152 - accuracy: 0.9957 - val_loss: 0.0507 - val_accuracy: 0.9921\n",
            "Epoch 24/50\n",
            "1313/1313 [==============================] - 101s 77ms/step - loss: 0.0110 - accuracy: 0.9971 - val_loss: 0.0587 - val_accuracy: 0.9914\n",
            "Epoch 25/50\n",
            "1313/1313 [==============================] - 103s 78ms/step - loss: 0.0185 - accuracy: 0.9953 - val_loss: 0.0489 - val_accuracy: 0.9924\n",
            "Epoch 26/50\n",
            "1313/1313 [==============================] - 101s 77ms/step - loss: 0.0148 - accuracy: 0.9963 - val_loss: 0.0712 - val_accuracy: 0.9902\n",
            "Epoch 27/50\n",
            "1313/1313 [==============================] - 100s 76ms/step - loss: 0.0157 - accuracy: 0.9957 - val_loss: 0.0506 - val_accuracy: 0.9919\n",
            "Epoch 28/50\n",
            "1313/1313 [==============================] - 101s 77ms/step - loss: 0.0111 - accuracy: 0.9972 - val_loss: 0.0595 - val_accuracy: 0.9914\n",
            "Epoch 29/50\n",
            "1313/1313 [==============================] - 101s 77ms/step - loss: 0.0165 - accuracy: 0.9959 - val_loss: 0.0739 - val_accuracy: 0.9912\n",
            "Epoch 30/50\n",
            "1313/1313 [==============================] - 101s 77ms/step - loss: 0.0132 - accuracy: 0.9969 - val_loss: 0.0717 - val_accuracy: 0.9918\n",
            "Epoch 31/50\n",
            "1313/1313 [==============================] - 102s 78ms/step - loss: 0.0115 - accuracy: 0.9974 - val_loss: 0.0735 - val_accuracy: 0.9921\n",
            "Epoch 32/50\n",
            "1313/1313 [==============================] - 101s 77ms/step - loss: 0.0150 - accuracy: 0.9964 - val_loss: 0.0700 - val_accuracy: 0.9916\n",
            "Epoch 33/50\n",
            "1313/1313 [==============================] - 101s 77ms/step - loss: 0.0168 - accuracy: 0.9963 - val_loss: 0.0693 - val_accuracy: 0.9908\n",
            "Epoch 34/50\n",
            "1313/1313 [==============================] - 100s 76ms/step - loss: 0.0147 - accuracy: 0.9966 - val_loss: 0.0754 - val_accuracy: 0.9918\n",
            "Epoch 35/50\n",
            "1313/1313 [==============================] - 100s 76ms/step - loss: 0.0134 - accuracy: 0.9970 - val_loss: 0.0719 - val_accuracy: 0.9917\n",
            "Epoch 36/50\n",
            "1313/1313 [==============================] - 100s 76ms/step - loss: 0.0135 - accuracy: 0.9970 - val_loss: 0.0827 - val_accuracy: 0.9917\n",
            "Epoch 37/50\n",
            "1313/1313 [==============================] - 101s 77ms/step - loss: 0.0120 - accuracy: 0.9973 - val_loss: 0.0806 - val_accuracy: 0.9917\n",
            "Epoch 38/50\n",
            "1313/1313 [==============================] - 101s 77ms/step - loss: 0.0177 - accuracy: 0.9967 - val_loss: 0.0881 - val_accuracy: 0.9908\n",
            "Epoch 39/50\n",
            "1313/1313 [==============================] - 100s 76ms/step - loss: 0.0169 - accuracy: 0.9966 - val_loss: 0.0758 - val_accuracy: 0.9920\n",
            "Epoch 40/50\n",
            "1313/1313 [==============================] - 101s 77ms/step - loss: 0.0110 - accuracy: 0.9978 - val_loss: 0.0811 - val_accuracy: 0.9913\n",
            "Epoch 41/50\n",
            "1313/1313 [==============================] - 101s 77ms/step - loss: 0.0174 - accuracy: 0.9967 - val_loss: 0.0974 - val_accuracy: 0.9906\n",
            "Epoch 42/50\n",
            "1313/1313 [==============================] - 101s 77ms/step - loss: 0.0121 - accuracy: 0.9973 - val_loss: 0.0955 - val_accuracy: 0.9910\n",
            "Epoch 43/50\n",
            "1313/1313 [==============================] - 102s 78ms/step - loss: 0.0135 - accuracy: 0.9974 - val_loss: 0.1129 - val_accuracy: 0.9901\n",
            "Epoch 44/50\n",
            "1313/1313 [==============================] - 101s 77ms/step - loss: 0.0188 - accuracy: 0.9965 - val_loss: 0.0852 - val_accuracy: 0.9917\n",
            "Epoch 45/50\n",
            "1313/1313 [==============================] - 101s 77ms/step - loss: 0.0150 - accuracy: 0.9969 - val_loss: 0.0977 - val_accuracy: 0.9911\n",
            "Epoch 46/50\n",
            "1313/1313 [==============================] - 101s 77ms/step - loss: 0.0121 - accuracy: 0.9974 - val_loss: 0.0903 - val_accuracy: 0.9915\n",
            "Epoch 47/50\n",
            "1313/1313 [==============================] - 101s 77ms/step - loss: 0.0154 - accuracy: 0.9970 - val_loss: 0.1019 - val_accuracy: 0.9915\n",
            "Epoch 48/50\n",
            "1313/1313 [==============================] - 101s 77ms/step - loss: 0.0161 - accuracy: 0.9969 - val_loss: 0.1064 - val_accuracy: 0.9917\n",
            "Epoch 49/50\n",
            "1313/1313 [==============================] - 102s 78ms/step - loss: 0.0161 - accuracy: 0.9971 - val_loss: 0.1008 - val_accuracy: 0.9913\n",
            "Epoch 50/50\n",
            "1313/1313 [==============================] - 103s 78ms/step - loss: 0.0137 - accuracy: 0.9969 - val_loss: 0.0864 - val_accuracy: 0.9922\n"
          ]
        }
      ]
    },
    {
      "cell_type": "code",
      "source": [
        "model.evaluate(x_test, y_test_oh)"
      ],
      "metadata": {
        "colab": {
          "base_uri": "https://localhost:8080/"
        },
        "id": "P-9OAJabMfiw",
        "outputId": "1e568792-c2c5-435c-ba2a-f6391db13644"
      },
      "execution_count": null,
      "outputs": [
        {
          "output_type": "stream",
          "name": "stdout",
          "text": [
            "313/313 [==============================] - 6s 20ms/step - loss: 0.0540 - accuracy: 0.9916\n"
          ]
        },
        {
          "output_type": "execute_result",
          "data": {
            "text/plain": [
              "[0.053965263068675995, 0.991599977016449]"
            ]
          },
          "metadata": {},
          "execution_count": 19
        }
      ]
    },
    {
      "cell_type": "code",
      "source": [
        "loss, acc, val_loss, val_acc  = history.history.values()\n",
        "\n",
        "fig, loss_ax = plt.subplots()\n",
        "acc_ax = loss_ax.twinx()\n",
        "\n",
        "loss_ax.plot(loss, 'y', label='train loss')\n",
        "loss_ax.plot(val_loss, 'r', label='val loss')\n",
        "loss_ax.set_xlabel('epoch')\n",
        "loss_ax.set_ylabel('loss')\n",
        "loss_ax.legend(loc='upper left')\n",
        "\n",
        "acc_ax.plot(acc, 'b', label='train acc')\n",
        "acc_ax.plot(val_acc, 'g', label='val acc')\n",
        "acc_ax.set_ylabel('accuracy')\n",
        "acc_ax.legend(loc='lower left')\n",
        "\n",
        "plt.show()"
      ],
      "metadata": {
        "colab": {
          "base_uri": "https://localhost:8080/",
          "height": 283
        },
        "id": "5YmFl5QrPmK8",
        "outputId": "638d9476-c111-4ae8-de80-a13a8a5df88b"
      },
      "execution_count": null,
      "outputs": [
        {
          "output_type": "display_data",
          "data": {
            "image/png": "[encoded data removed]",
            "text/plain": [
              "<Figure size 432x288 with 2 Axes>"
            ]
          },
          "metadata": {
            "needs_background": "light"
          }
        }
      ]
    },
    {
      "cell_type": "markdown",
      "source": [
        "- 예측값 확인"
      ],
      "metadata": {
        "id": "hv_zISPasiv0"
      }
    },
    {
      "cell_type": "code",
      "source": [
        "pred = np.argmax(model.predict(x_test), axis=1)"
      ],
      "metadata": {
        "id": "0pUIAAAFsiFY"
      },
      "execution_count": null,
      "outputs": []
    },
    {
      "cell_type": "code",
      "source": [
        "pred_dic = dict()\n",
        "pred_cnt_dic = dict()\n",
        "for i in range(10):\n",
        "    pred_cnt_dic[i] = 0\n",
        "    pred_dic[i] = []\n",
        "\n",
        "for p, a in zip(pred, y_test):\n",
        "    if p != a:\n",
        "        pred_cnt_dic[a] += 1\n",
        "        pred_dic[a].append(p)"
      ],
      "metadata": {
        "id": "3cdcdd07so2X"
      },
      "execution_count": null,
      "outputs": []
    },
    {
      "cell_type": "code",
      "source": [
        "plt.bar(list(pred_cnt_dic.keys()), list(pred_cnt_dic.values()))\n",
        "plt.xticks(list(pred_cnt_dic.keys()))\n",
        "plt.show()"
      ],
      "metadata": {
        "colab": {
          "base_uri": "https://localhost:8080/",
          "height": 265
        },
        "id": "gi204LkBtc45",
        "outputId": "a8f7c9ac-d712-4b45-f60f-e63b593ee041"
      },
      "execution_count": null,
      "outputs": [
        {
          "output_type": "display_data",
          "data": {
            "image/png": "[encoded data removed]",
            "text/plain": [
              "<Figure size 432x288 with 1 Axes>"
            ]
          },
          "metadata": {
            "needs_background": "light"
          }
        }
      ]
    },
    {
      "cell_type": "code",
      "source": [
        "pred_dic"
      ],
      "metadata": {
        "id": "K6uUsJDHv7y-"
      },
      "execution_count": null,
      "outputs": []
    },
    {
      "cell_type": "code",
      "source": [
        "for i in range(10):\n",
        "    uniq = np.unique(pred_dic[i], return_counts=True)\n",
        "    plt.bar(uniq[0], uniq[1])\n",
        "    plt.xticks(range(10))\n",
        "    plt.title(f\"answer {i}\")\n",
        "    plt.show()"
      ],
      "metadata": {
        "id": "efgJk8KAuIjD"
      },
      "execution_count": null,
      "outputs": []
    },
    {
      "cell_type": "markdown",
      "source": [
        "# LIME"
      ],
      "metadata": {
        "id": "gtePyZYpL-iM"
      }
    },
    {
      "cell_type": "code",
      "source": [
        "def predict(data):\n",
        "    data = data.reshape(-1, 28, 28, 3)\n",
        "    pred = model.predict(data)\n",
        "    return pred"
      ],
      "metadata": {
        "id": "71PH4SoN91TU"
      },
      "execution_count": null,
      "outputs": []
    },
    {
      "cell_type": "code",
      "source": [
        "explainer = lime_image.LimeImageExplainer()\n",
        "\n",
        "# 이미지 분할 알고리즘 : quickshift(기본), slic, felzenszwalb\n",
        "segmenter = SegmentationAlgorithm('slic',\n",
        "                                 n_segments=100,\n",
        "                                 compactness=1,\n",
        "                                 sigma=1)"
      ],
      "metadata": {
        "id": "M5m5xPiT926u"
      },
      "execution_count": null,
      "outputs": []
    },
    {
      "cell_type": "code",
      "source": [
        "idx= 1\n",
        "exp = explainer.explain_instance(x_test[idx],\n",
        "                                 classifier_fn=predict,\n",
        "                                 top_labels=10,\n",
        "                                 num_samples=500,\n",
        "                                 segmentation_fn=segmenter\n",
        "                                )"
      ],
      "metadata": {
        "colab": {
          "base_uri": "https://localhost:8080/",
          "height": 106,
          "referenced_widgets": [
            "7a7a75e33c3c48bcb37faa77f4abb0ee",
            "4bfbc22d10ea45dd9278626b178b0746",
            "13ed4f2066f3404ab58e540bcde0d279",
            "cb7c1cfd752843ea954b0164c005ca2c",
            "d8ff603a789b4653b8ed3d517983685c",
            "c5a89dcaab19445aad2317239125d1da",
            "1c703b2d4de445eba66dcb0ade24e384",
            "74c51844379148d3b7094740567cd99b",
            "4d5d786a198144e499b0728e25042f72",
            "ebcf811b2bd4434ca3d2b343f082d7af",
            "e28af76be0074c1ab23fa57478fc1c3d"
          ]
        },
        "id": "6Jul42mG-NSa",
        "outputId": "deab2b0c-8e44-4b5e-e715-34243d87b786"
      },
      "execution_count": null,
      "outputs": [
        {
          "output_type": "stream",
          "name": "stderr",
          "text": [
            "/usr/local/lib/python3.7/dist-packages/lime/wrappers/scikit_image.py:117: FutureWarning: skimage.measure.label's indexing starts from 0. In future version it will start from 1. To disable this warning, explicitely set the `start_label` parameter to 1.\n",
            "  return self.target_fn(args[0], **self.target_params)\n"
          ]
        },
        {
          "output_type": "display_data",
          "data": {
            "application/vnd.jupyter.widget-view+json": {
              "model_id": "7a7a75e33c3c48bcb37faa77f4abb0ee",
              "version_minor": 0,
              "version_major": 2
            },
            "text/plain": [
              "  0%|          | 0/500 [00:00<?, ?it/s]"
            ]
          },
          "metadata": {}
        }
      ]
    },
    {
      "cell_type": "code",
      "source": [
        "print(f\"class : {y_test[idx]}, pred : {np.argmax(predict(x_test[idx]))}\")\n",
        "fig, ((ax1, ax2, ax3, ax4)) = plt.subplots(1, 4, figsize=(20, 20))\n",
        "\n",
        "# 에측에 도움이 되는 세그먼트 출력\n",
        "temp, mask = exp.get_image_and_mask(y_test[idx], \n",
        "                                   positive_only=True,\n",
        "                                   num_features=8,\n",
        "                                   hide_rest=False)\n",
        "# ax1.imshow(mark_boundaries(temp, mask))\n",
        "ax1.imshow(label2rgb(mask, temp, bg_label = 0),\n",
        "          interpolation = 'nearest')\n",
        "ax1.set_title(f'Positive Regions for {y_test[idx]}')\n",
        "\n",
        "# 모든 세그먼트 출력\n",
        "temp, mask = exp.get_image_and_mask(y_test[idx], \n",
        "                                   positive_only=False,\n",
        "                                   num_features=8,\n",
        "                                   hide_rest=False)\n",
        "# ax2.imshow(mark_boundaries(temp, 4-mask))\n",
        "ax2.imshow(label2rgb(4-mask, temp, bg_label = 0),\n",
        "          interpolation = 'nearest')\n",
        "ax2.set_title(f'Positive/Negative Regions for {y_test[idx]}')\n",
        "\n",
        "# 이미지만 출력\n",
        "ax3.imshow(temp, interpolation='nearest')\n",
        "ax3.set_title('Show output image only')\n",
        "\n",
        "# 마스크만 출력\n",
        "ax4.imshow(mask, interpolation = 'nearest')\n",
        "ax4.set_title('Show mask only')"
      ],
      "metadata": {
        "colab": {
          "base_uri": "https://localhost:8080/",
          "height": 295
        },
        "id": "q1pcV-JF-UNM",
        "outputId": "87846e27-be07-4c01-e1f8-9b0381cc9538"
      },
      "execution_count": null,
      "outputs": [
        {
          "output_type": "stream",
          "name": "stdout",
          "text": [
            "class : 2, pred : 2\n"
          ]
        },
        {
          "output_type": "execute_result",
          "data": {
            "text/plain": [
              "Text(0.5, 1.0, 'Show mask only')"
            ]
          },
          "metadata": {},
          "execution_count": 24
        },
        {
          "output_type": "display_data",
          "data": {
            "image/png": "[encoded data removed]",
            "text/plain": [
              "<Figure size 1440x1440 with 4 Axes>"
            ]
          },
          "metadata": {
            "needs_background": "light"
          }
        }
      ]
    }
  ]
}
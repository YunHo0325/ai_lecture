{
  "nbformat": 4,
  "nbformat_minor": 0,
  "metadata": {
    "colab": {
      "name": "mnist_cnn.ipynb",
      "provenance": [],
      "collapsed_sections": [],
      "mount_file_id": "1nwn-mDVLOBjgXUv1F4vQVoxICyGG_o0c",
      "authorship_tag": "ABX9TyNc+lBQN3fq2iu1QCiWbfRV",
      "include_colab_link": true
    },
    "kernelspec": {
      "name": "python3",
      "display_name": "Python 3"
    },
    "language_info": {
      "name": "python"
    },
    "accelerator": "GPU"
  },
  "cells": [
    {
      "cell_type": "markdown",
      "metadata": {
        "id": "view-in-github",
        "colab_type": "text"
      },
      "source": [
        "<a href=\"https://colab.research.google.com/github/YunHo0325/ai_lecture/blob/main/src/mnist_cnn.ipynb\" target=\"_parent\"><img src=\"https://colab.research.google.com/assets/colab-badge.svg\" alt=\"Open In Colab\"/></a>"
      ]
    },
    {
      "cell_type": "markdown",
      "source": [
        "# 0. Packages Import"
      ],
      "metadata": {
        "id": "eizP5UWgHLoG"
      }
    },
    {
      "cell_type": "code",
      "execution_count": 63,
      "metadata": {
        "id": "a3yfO5gmUapq"
      },
      "outputs": [],
      "source": [
        "import tensorflow as tf\n",
        "import matplotlib.pyplot as plt\n",
        "import numpy as np \n",
        "\n",
        "from tensorflow.keras.models import Sequential\n",
        "from tensorflow.keras.layers import Dense, Dropout, Flatten, Conv2D, MaxPooling2D\n",
        "\n",
        "from sklearn.model_selection import train_test_split"
      ]
    },
    {
      "cell_type": "markdown",
      "source": [
        "# 1. 데이터셋 불러오기"
      ],
      "metadata": {
        "id": "lozPmNjLHW2U"
      }
    },
    {
      "cell_type": "code",
      "source": [
        "# 1. MNIST 데이터셋 임포트\n",
        "mnist = tf.keras.datasets.mnist\n",
        "(x_train, y_train), (x_test, y_test) = mnist.load_data()"
      ],
      "metadata": {
        "colab": {
          "base_uri": "https://localhost:8080/"
        },
        "id": "o1UbfusZU13T",
        "outputId": "3981497c-26c3-4a0f-8e24-9716420bb594"
      },
      "execution_count": 4,
      "outputs": [
        {
          "output_type": "stream",
          "name": "stdout",
          "text": [
            "Downloading data from https://storage.googleapis.com/tensorflow/tf-keras-datasets/mnist.npz\n",
            "11493376/11490434 [==============================] - 0s 0us/step\n",
            "11501568/11490434 [==============================] - 0s 0us/step\n"
          ]
        }
      ]
    },
    {
      "cell_type": "markdown",
      "source": [
        "# 2. 데이터 전처리"
      ],
      "metadata": {
        "id": "qYOE4WE8HiI8"
      }
    },
    {
      "cell_type": "code",
      "source": [
        "# 2. 데이터 전처리\n",
        "x_train, x_test = x_train/255.0, x_test/255.0"
      ],
      "metadata": {
        "id": "5XzecsGTVBqD"
      },
      "execution_count": 5,
      "outputs": []
    },
    {
      "cell_type": "code",
      "source": [
        "x_train, x_val, y_train, y_val = train_test_split(x_train, \n",
        "                                                  y_train, \n",
        "                                                  test_size=0.3, \n",
        "                                                  random_state=2020)"
      ],
      "metadata": {
        "id": "AybT6u2iIEmb"
      },
      "execution_count": 6,
      "outputs": []
    },
    {
      "cell_type": "markdown",
      "source": [
        "# 3. 모델링"
      ],
      "metadata": {
        "id": "wTwlMdv5HdAH"
      }
    },
    {
      "cell_type": "markdown",
      "source": [
        "## 3.1 DNN"
      ],
      "metadata": {
        "id": "3260kzyCHF6a"
      }
    },
    {
      "cell_type": "code",
      "source": [
        "def dnnModel():\n",
        "    # 모델 구성\n",
        "    model = Sequential([\n",
        "        Flatten(input_shape=(28, 28)),\n",
        "        Dense(512, activation=tf.nn.relu),\n",
        "        Dense(10, activation=tf.nn.softmax)\n",
        "    ])\n",
        "    return model"
      ],
      "metadata": {
        "id": "QXysDgpC-wLQ"
      },
      "execution_count": 10,
      "outputs": []
    },
    {
      "cell_type": "code",
      "source": [
        "tf.keras.backend.clear_session()    # 세션 초기화\n",
        "model = dnnModel()\n",
        "\n",
        "# 모델 컴파일\n",
        "model.compile(optimizer='adam',\n",
        "            loss='sparse_categorical_crossentropy',\n",
        "            metrics=['accuracy'])\n",
        "\n",
        "model.summary()"
      ],
      "metadata": {
        "id": "oxnNpo1uNgvX"
      },
      "execution_count": null,
      "outputs": []
    },
    {
      "cell_type": "code",
      "source": [
        "# 모델 훈련\n",
        "history = model.fit(x_train, y_train, \n",
        "                    epochs=20,\n",
        "                    validation_data=(x_val, y_val))"
      ],
      "metadata": {
        "colab": {
          "base_uri": "https://localhost:8080/"
        },
        "id": "a13KWTjZVGHj",
        "outputId": "9a882869-2379-44d5-968f-8d862a0665b5"
      },
      "execution_count": 17,
      "outputs": [
        {
          "output_type": "stream",
          "name": "stdout",
          "text": [
            "Epoch 1/20\n",
            "1313/1313 [==============================] - 61s 5ms/step - loss: 0.2354 - accuracy: 0.9324 - val_loss: 0.1353 - val_accuracy: 0.9603\n",
            "Epoch 2/20\n",
            "1313/1313 [==============================] - 6s 4ms/step - loss: 0.0967 - accuracy: 0.9695 - val_loss: 0.0931 - val_accuracy: 0.9720\n",
            "Epoch 3/20\n",
            "1313/1313 [==============================] - 6s 4ms/step - loss: 0.0606 - accuracy: 0.9814 - val_loss: 0.0935 - val_accuracy: 0.9713\n",
            "Epoch 4/20\n",
            "1313/1313 [==============================] - 6s 4ms/step - loss: 0.0419 - accuracy: 0.9866 - val_loss: 0.0837 - val_accuracy: 0.9744\n",
            "Epoch 5/20\n",
            "1313/1313 [==============================] - 6s 4ms/step - loss: 0.0275 - accuracy: 0.9909 - val_loss: 0.0897 - val_accuracy: 0.9751\n",
            "Epoch 6/20\n",
            "1313/1313 [==============================] - 6s 4ms/step - loss: 0.0223 - accuracy: 0.9928 - val_loss: 0.0798 - val_accuracy: 0.9781\n",
            "Epoch 7/20\n",
            "1313/1313 [==============================] - 6s 4ms/step - loss: 0.0175 - accuracy: 0.9945 - val_loss: 0.0895 - val_accuracy: 0.9771\n",
            "Epoch 8/20\n",
            "1313/1313 [==============================] - 6s 4ms/step - loss: 0.0148 - accuracy: 0.9952 - val_loss: 0.0876 - val_accuracy: 0.9788\n",
            "Epoch 9/20\n",
            "1313/1313 [==============================] - 6s 4ms/step - loss: 0.0122 - accuracy: 0.9960 - val_loss: 0.0877 - val_accuracy: 0.9802\n",
            "Epoch 10/20\n",
            "1313/1313 [==============================] - 7s 5ms/step - loss: 0.0113 - accuracy: 0.9965 - val_loss: 0.1064 - val_accuracy: 0.9759\n",
            "Epoch 11/20\n",
            "1313/1313 [==============================] - 6s 4ms/step - loss: 0.0081 - accuracy: 0.9970 - val_loss: 0.1131 - val_accuracy: 0.9751\n",
            "Epoch 12/20\n",
            "1313/1313 [==============================] - 6s 4ms/step - loss: 0.0080 - accuracy: 0.9975 - val_loss: 0.1086 - val_accuracy: 0.9788\n",
            "Epoch 13/20\n",
            "1313/1313 [==============================] - 6s 4ms/step - loss: 0.0101 - accuracy: 0.9968 - val_loss: 0.1148 - val_accuracy: 0.9766\n",
            "Epoch 14/20\n",
            "1313/1313 [==============================] - 6s 4ms/step - loss: 0.0073 - accuracy: 0.9977 - val_loss: 0.1040 - val_accuracy: 0.9808\n",
            "Epoch 15/20\n",
            "1313/1313 [==============================] - 6s 4ms/step - loss: 0.0061 - accuracy: 0.9980 - val_loss: 0.1223 - val_accuracy: 0.9777\n",
            "Epoch 16/20\n",
            "1313/1313 [==============================] - 6s 4ms/step - loss: 0.0075 - accuracy: 0.9977 - val_loss: 0.1258 - val_accuracy: 0.9787\n",
            "Epoch 17/20\n",
            "1313/1313 [==============================] - 6s 4ms/step - loss: 0.0051 - accuracy: 0.9981 - val_loss: 0.1129 - val_accuracy: 0.9806\n",
            "Epoch 18/20\n",
            "1313/1313 [==============================] - 6s 4ms/step - loss: 0.0069 - accuracy: 0.9978 - val_loss: 0.1137 - val_accuracy: 0.9796\n",
            "Epoch 19/20\n",
            "1313/1313 [==============================] - 6s 4ms/step - loss: 0.0057 - accuracy: 0.9980 - val_loss: 0.1146 - val_accuracy: 0.9806\n",
            "Epoch 20/20\n",
            "1313/1313 [==============================] - 6s 4ms/step - loss: 0.0056 - accuracy: 0.9984 - val_loss: 0.1434 - val_accuracy: 0.9776\n"
          ]
        }
      ]
    },
    {
      "cell_type": "code",
      "source": [
        "# 정확도 평가\n",
        "test_loss, test_acc = model.evaluate(x_test, y_test)\n",
        "print('테스트 정확도:', test_acc)"
      ],
      "metadata": {
        "colab": {
          "base_uri": "https://localhost:8080/"
        },
        "id": "wa96G7ibVJE0",
        "outputId": "a6c64318-39c0-40ef-e917-2af3a042dc8a"
      },
      "execution_count": 18,
      "outputs": [
        {
          "output_type": "stream",
          "name": "stdout",
          "text": [
            "313/313 [==============================] - 1s 3ms/step - loss: 0.1376 - accuracy: 0.9757\n",
            "테스트 정확도: 0.9757000207901001\n"
          ]
        }
      ]
    },
    {
      "cell_type": "code",
      "source": [
        "print(history.history.keys())"
      ],
      "metadata": {
        "colab": {
          "base_uri": "https://localhost:8080/"
        },
        "id": "RerXiWuzBVKz",
        "outputId": "ef31095c-95e5-402b-ce9e-1365671fe83f"
      },
      "execution_count": 32,
      "outputs": [
        {
          "output_type": "stream",
          "name": "stdout",
          "text": [
            "dict_keys(['loss', 'accuracy', 'val_loss', 'val_accuracy'])\n"
          ]
        }
      ]
    },
    {
      "cell_type": "code",
      "source": [
        "loss, acc, val_loss, val_acc  = history.history.values()"
      ],
      "metadata": {
        "id": "bID71TiX_iDt"
      },
      "execution_count": 30,
      "outputs": []
    },
    {
      "cell_type": "code",
      "source": [
        "fig, loss_ax = plt.subplots()\n",
        "acc_ax = loss_ax.twinx()\n",
        "\n",
        "loss_ax.plot(loss, 'y', label='train loss')\n",
        "loss_ax.plot(val_loss, 'r', label='val loss')\n",
        "loss_ax.set_xlabel('epoch')\n",
        "loss_ax.set_ylabel('loss')\n",
        "loss_ax.legend(loc='upper left')\n",
        "\n",
        "acc_ax.plot(acc, 'b', label='train acc')\n",
        "acc_ax.plot(val_acc, 'g', label='val acc')\n",
        "acc_ax.set_ylabel('accuracy')\n",
        "acc_ax.legend(loc='lower left')\n",
        "\n",
        "plt.show()"
      ],
      "metadata": {
        "colab": {
          "base_uri": "https://localhost:8080/",
          "height": 279
        },
        "id": "qBohoPwRBjlZ",
        "outputId": "1a716e8f-18af-40ee-8fcd-d007f0073be4"
      },
      "execution_count": 51,
      "outputs": [
        {
          "output_type": "display_data",
          "data": {
            "image/png": "[encoded data removed]",
            "text/plain": [
              "<Figure size 432x288 with 2 Axes>"
            ]
          },
          "metadata": {
            "needs_background": "light"
          }
        }
      ]
    },
    {
      "cell_type": "code",
      "source": [
        "def showAccPlot(hist):\n",
        "    loss, acc, val_loss, val_acc = hist.values()\n",
        "    fig, loss_ax = plt.subplots()\n",
        "    acc_ax = loss_ax.twinx()\n",
        "\n",
        "    loss_ax.plot(loss, 'y', label='train loss')\n",
        "    loss_ax.plot(val_loss, 'r', label='val loss')\n",
        "    loss_ax.set_xlabel('epoch')\n",
        "    loss_ax.set_ylabel('loss')\n",
        "    loss_ax.legend(loc='upper left')\n",
        "\n",
        "    acc_ax.plot(acc, 'b', label='train acc')\n",
        "    acc_ax.plot(val_acc, 'g', label='val acc')\n",
        "    acc_ax.set_ylabel('accuracy')\n",
        "    acc_ax.legend(loc='lower left')\n",
        "\n",
        "    plt.show()"
      ],
      "metadata": {
        "id": "WxT11AFxE82U"
      },
      "execution_count": 54,
      "outputs": []
    },
    {
      "cell_type": "markdown",
      "source": [
        "### 3.1.2 One-Hot Encoding"
      ],
      "metadata": {
        "id": "YWmxCKhZEpSp"
      }
    },
    {
      "cell_type": "code",
      "source": [
        "y_train_oh = tf.keras.utils.to_categorical(y_train)\n",
        "y_val_oh = tf.keras.utils.to_categorical(y_val)\n",
        "y_test_oh = tf.keras.utils.to_categorical(y_test)"
      ],
      "metadata": {
        "id": "LQt_vGnJEn-8"
      },
      "execution_count": 41,
      "outputs": []
    },
    {
      "cell_type": "code",
      "source": [
        "tf.keras.backend.clear_session()    # 세션 초기화\n",
        "model = dnnModel()\n",
        "\n",
        "# 모델 컴파일 : loss = 'categorical_crossentropy'\n",
        "model.compile(optimizer='adam',\n",
        "            loss='categorical_crossentropy',\n",
        "            metrics=['accuracy'])\n",
        "\n",
        "# 모델 훈련\n",
        "history = model.fit(x_train, y_train_oh, \n",
        "                    epochs=20,\n",
        "                    validation_data=(x_val, y_val_oh))"
      ],
      "metadata": {
        "colab": {
          "base_uri": "https://localhost:8080/"
        },
        "id": "uwo_tWbOEm58",
        "outputId": "017d3bc9-117b-4fac-a4a2-4ab7eed88d19"
      },
      "execution_count": 42,
      "outputs": [
        {
          "output_type": "stream",
          "name": "stdout",
          "text": [
            "Epoch 1/20\n",
            "1313/1313 [==============================] - 7s 5ms/step - loss: 0.2341 - accuracy: 0.9315 - val_loss: 0.1347 - val_accuracy: 0.9598\n",
            "Epoch 2/20\n",
            "1313/1313 [==============================] - 6s 5ms/step - loss: 0.0960 - accuracy: 0.9711 - val_loss: 0.1013 - val_accuracy: 0.9692\n",
            "Epoch 3/20\n",
            "1313/1313 [==============================] - 7s 6ms/step - loss: 0.0613 - accuracy: 0.9809 - val_loss: 0.0859 - val_accuracy: 0.9740\n",
            "Epoch 4/20\n",
            "1313/1313 [==============================] - 7s 6ms/step - loss: 0.0395 - accuracy: 0.9875 - val_loss: 0.0977 - val_accuracy: 0.9722\n",
            "Epoch 5/20\n",
            "1313/1313 [==============================] - 8s 6ms/step - loss: 0.0298 - accuracy: 0.9904 - val_loss: 0.1161 - val_accuracy: 0.9684\n",
            "Epoch 6/20\n",
            "1313/1313 [==============================] - 6s 5ms/step - loss: 0.0228 - accuracy: 0.9924 - val_loss: 0.0873 - val_accuracy: 0.9763\n",
            "Epoch 7/20\n",
            "1313/1313 [==============================] - 6s 5ms/step - loss: 0.0182 - accuracy: 0.9944 - val_loss: 0.0855 - val_accuracy: 0.9793\n",
            "Epoch 8/20\n",
            "1313/1313 [==============================] - 7s 6ms/step - loss: 0.0127 - accuracy: 0.9960 - val_loss: 0.1365 - val_accuracy: 0.9699\n",
            "Epoch 9/20\n",
            "1313/1313 [==============================] - 7s 6ms/step - loss: 0.0125 - accuracy: 0.9960 - val_loss: 0.0982 - val_accuracy: 0.9776\n",
            "Epoch 10/20\n",
            "1313/1313 [==============================] - 6s 5ms/step - loss: 0.0097 - accuracy: 0.9965 - val_loss: 0.0982 - val_accuracy: 0.9784\n",
            "Epoch 11/20\n",
            "1313/1313 [==============================] - 7s 6ms/step - loss: 0.0098 - accuracy: 0.9965 - val_loss: 0.1099 - val_accuracy: 0.9782\n",
            "Epoch 12/20\n",
            "1313/1313 [==============================] - 7s 6ms/step - loss: 0.0084 - accuracy: 0.9973 - val_loss: 0.1095 - val_accuracy: 0.9776\n",
            "Epoch 13/20\n",
            "1313/1313 [==============================] - 7s 6ms/step - loss: 0.0093 - accuracy: 0.9974 - val_loss: 0.1310 - val_accuracy: 0.9747\n",
            "Epoch 14/20\n",
            "1313/1313 [==============================] - 8s 6ms/step - loss: 0.0084 - accuracy: 0.9974 - val_loss: 0.1020 - val_accuracy: 0.9806\n",
            "Epoch 15/20\n",
            "1313/1313 [==============================] - 8s 6ms/step - loss: 0.0059 - accuracy: 0.9980 - val_loss: 0.1238 - val_accuracy: 0.9777\n",
            "Epoch 16/20\n",
            "1313/1313 [==============================] - 8s 6ms/step - loss: 0.0065 - accuracy: 0.9981 - val_loss: 0.1334 - val_accuracy: 0.9777\n",
            "Epoch 17/20\n",
            "1313/1313 [==============================] - 7s 6ms/step - loss: 0.0089 - accuracy: 0.9967 - val_loss: 0.1163 - val_accuracy: 0.9801\n",
            "Epoch 18/20\n",
            "1313/1313 [==============================] - 6s 5ms/step - loss: 0.0035 - accuracy: 0.9989 - val_loss: 0.1106 - val_accuracy: 0.9803\n",
            "Epoch 19/20\n",
            "1313/1313 [==============================] - 7s 5ms/step - loss: 0.0065 - accuracy: 0.9980 - val_loss: 0.1331 - val_accuracy: 0.9777\n",
            "Epoch 20/20\n",
            "1313/1313 [==============================] - 7s 5ms/step - loss: 0.0070 - accuracy: 0.9981 - val_loss: 0.1214 - val_accuracy: 0.9799\n"
          ]
        }
      ]
    },
    {
      "cell_type": "code",
      "source": [
        "# 정확도 평가\n",
        "test_loss, test_acc = model.evaluate(x_test, y_test_oh)\n",
        "print('테스트 정확도:', test_acc)"
      ],
      "metadata": {
        "colab": {
          "base_uri": "https://localhost:8080/"
        },
        "id": "cfxo5mOkLh_4",
        "outputId": "743b53ca-6328-4561-cc18-b6f0366763e6"
      },
      "execution_count": 46,
      "outputs": [
        {
          "output_type": "stream",
          "name": "stdout",
          "text": [
            "313/313 [==============================] - 1s 3ms/step - loss: 0.1072 - accuracy: 0.9805\n",
            "테스트 정확도: 0.9804999828338623\n"
          ]
        }
      ]
    },
    {
      "cell_type": "code",
      "source": [
        "showAccPlot(history.history)"
      ],
      "metadata": {
        "colab": {
          "base_uri": "https://localhost:8080/",
          "height": 279
        },
        "id": "2PArayqyE6yz",
        "outputId": "33ebe459-ed80-409a-db08-bacfd55ef65a"
      },
      "execution_count": 55,
      "outputs": [
        {
          "output_type": "display_data",
          "data": {
            "image/png": "[encoded data removed]",
            "text/plain": [
              "<Figure size 432x288 with 2 Axes>"
            ]
          },
          "metadata": {
            "needs_background": "light"
          }
        }
      ]
    },
    {
      "cell_type": "markdown",
      "source": [
        "## 3.2 CNN"
      ],
      "metadata": {
        "id": "-RgRcwnIQd5P"
      }
    },
    {
      "cell_type": "code",
      "source": [
        "def cnnModel():\n",
        "    model = Sequential()\n",
        "    model.add(Conv2D(32, kernel_size=(5, 5), strides=(1, 1), padding='same',\n",
        "                    activation='relu',\n",
        "                    input_shape=(28, 28, 1)))\n",
        "    model.add(MaxPooling2D(pool_size=(2, 2), strides=(2, 2)))\n",
        "    model.add(Conv2D(64, (2, 2), activation='relu', padding='same'))\n",
        "    model.add(MaxPooling2D(pool_size=(2, 2)))\n",
        "    model.add(Dropout(0.25))\n",
        "    model.add(Flatten())\n",
        "    model.add(Dense(1000, activation='relu'))\n",
        "    model.add(Dropout(0.5))\n",
        "    model.add(Dense(10, activation='softmax'))\n",
        "\n",
        "    return model"
      ],
      "metadata": {
        "id": "3ufiyDwRVJ2z"
      },
      "execution_count": 67,
      "outputs": []
    },
    {
      "cell_type": "code",
      "source": [
        "tf.keras.backend.clear_session()    # 세션 초기화\n",
        "model = cnnModel()\n",
        "\n",
        "# 모델 컴파일 : loss = 'categorical_crossentropy'\n",
        "model.compile(optimizer='adam',\n",
        "            loss='categorical_crossentropy',\n",
        "            metrics=['accuracy'])\n",
        "model.summary()"
      ],
      "metadata": {
        "colab": {
          "base_uri": "https://localhost:8080/"
        },
        "id": "mlrJHnA5N8gD",
        "outputId": "cfa787f2-e9f1-48f9-c50a-8ced608799cb"
      },
      "execution_count": 68,
      "outputs": [
        {
          "output_type": "stream",
          "name": "stdout",
          "text": [
            "Model: \"sequential\"\n",
            "_________________________________________________________________\n",
            " Layer (type)                Output Shape              Param #   \n",
            "=================================================================\n",
            " conv2d (Conv2D)             (None, 28, 28, 32)        832       \n",
            "                                                                 \n",
            " max_pooling2d (MaxPooling2D  (None, 14, 14, 32)       0         \n",
            " )                                                               \n",
            "                                                                 \n",
            " conv2d_1 (Conv2D)           (None, 14, 14, 64)        8256      \n",
            "                                                                 \n",
            " max_pooling2d_1 (MaxPooling  (None, 7, 7, 64)         0         \n",
            " 2D)                                                             \n",
            "                                                                 \n",
            " dropout (Dropout)           (None, 7, 7, 64)          0         \n",
            "                                                                 \n",
            " flatten (Flatten)           (None, 3136)              0         \n",
            "                                                                 \n",
            " dense (Dense)               (None, 1000)              3137000   \n",
            "                                                                 \n",
            " dropout_1 (Dropout)         (None, 1000)              0         \n",
            "                                                                 \n",
            " dense_1 (Dense)             (None, 10)                10010     \n",
            "                                                                 \n",
            "=================================================================\n",
            "Total params: 3,156,098\n",
            "Trainable params: 3,156,098\n",
            "Non-trainable params: 0\n",
            "_________________________________________________________________\n"
          ]
        }
      ]
    },
    {
      "cell_type": "code",
      "source": [
        "# 모델 훈련\n",
        "history = model.fit(x_train, y_train_oh, \n",
        "                    epochs=20,\n",
        "                    validation_data=(x_val, y_val_oh))"
      ],
      "metadata": {
        "colab": {
          "base_uri": "https://localhost:8080/"
        },
        "id": "swiEDyzwOHIL",
        "outputId": "ca71eb67-a6e0-4694-fd63-90d8886b3092"
      },
      "execution_count": 69,
      "outputs": [
        {
          "output_type": "stream",
          "name": "stdout",
          "text": [
            "Epoch 1/20\n",
            "1313/1313 [==============================] - 20s 10ms/step - loss: 0.1716 - accuracy: 0.9459 - val_loss: 0.0548 - val_accuracy: 0.9831\n",
            "Epoch 2/20\n",
            "1313/1313 [==============================] - 12s 9ms/step - loss: 0.0654 - accuracy: 0.9797 - val_loss: 0.0469 - val_accuracy: 0.9864\n",
            "Epoch 3/20\n",
            "1313/1313 [==============================] - 12s 10ms/step - loss: 0.0479 - accuracy: 0.9852 - val_loss: 0.0367 - val_accuracy: 0.9888\n",
            "Epoch 4/20\n",
            "1313/1313 [==============================] - 13s 10ms/step - loss: 0.0372 - accuracy: 0.9882 - val_loss: 0.0347 - val_accuracy: 0.9899\n",
            "Epoch 5/20\n",
            "1313/1313 [==============================] - 13s 10ms/step - loss: 0.0319 - accuracy: 0.9894 - val_loss: 0.0431 - val_accuracy: 0.9882\n",
            "Epoch 6/20\n",
            "1313/1313 [==============================] - 13s 10ms/step - loss: 0.0282 - accuracy: 0.9910 - val_loss: 0.0395 - val_accuracy: 0.9884\n",
            "Epoch 7/20\n",
            "1313/1313 [==============================] - 13s 10ms/step - loss: 0.0256 - accuracy: 0.9923 - val_loss: 0.0339 - val_accuracy: 0.9907\n",
            "Epoch 8/20\n",
            "1313/1313 [==============================] - 13s 10ms/step - loss: 0.0219 - accuracy: 0.9929 - val_loss: 0.0465 - val_accuracy: 0.9889\n",
            "Epoch 9/20\n",
            "1313/1313 [==============================] - 14s 10ms/step - loss: 0.0231 - accuracy: 0.9920 - val_loss: 0.0359 - val_accuracy: 0.9911\n",
            "Epoch 10/20\n",
            "1313/1313 [==============================] - 13s 10ms/step - loss: 0.0198 - accuracy: 0.9933 - val_loss: 0.0395 - val_accuracy: 0.9911\n",
            "Epoch 11/20\n",
            "1313/1313 [==============================] - 13s 10ms/step - loss: 0.0192 - accuracy: 0.9943 - val_loss: 0.0380 - val_accuracy: 0.9903\n",
            "Epoch 12/20\n",
            "1313/1313 [==============================] - 13s 10ms/step - loss: 0.0151 - accuracy: 0.9951 - val_loss: 0.0396 - val_accuracy: 0.9909\n",
            "Epoch 13/20\n",
            "1313/1313 [==============================] - 13s 10ms/step - loss: 0.0154 - accuracy: 0.9949 - val_loss: 0.0385 - val_accuracy: 0.9893\n",
            "Epoch 14/20\n",
            "1313/1313 [==============================] - 13s 10ms/step - loss: 0.0143 - accuracy: 0.9954 - val_loss: 0.0461 - val_accuracy: 0.9894\n",
            "Epoch 15/20\n",
            "1313/1313 [==============================] - 13s 10ms/step - loss: 0.0142 - accuracy: 0.9951 - val_loss: 0.0424 - val_accuracy: 0.9907\n",
            "Epoch 16/20\n",
            "1313/1313 [==============================] - 13s 10ms/step - loss: 0.0125 - accuracy: 0.9960 - val_loss: 0.0445 - val_accuracy: 0.9918\n",
            "Epoch 17/20\n",
            "1313/1313 [==============================] - 13s 10ms/step - loss: 0.0105 - accuracy: 0.9964 - val_loss: 0.0481 - val_accuracy: 0.9913\n",
            "Epoch 18/20\n",
            "1313/1313 [==============================] - 13s 10ms/step - loss: 0.0166 - accuracy: 0.9953 - val_loss: 0.0477 - val_accuracy: 0.9911\n",
            "Epoch 19/20\n",
            "1313/1313 [==============================] - 13s 10ms/step - loss: 0.0114 - accuracy: 0.9965 - val_loss: 0.0506 - val_accuracy: 0.9917\n",
            "Epoch 20/20\n",
            "1313/1313 [==============================] - 13s 10ms/step - loss: 0.0118 - accuracy: 0.9966 - val_loss: 0.0542 - val_accuracy: 0.9907\n"
          ]
        }
      ]
    },
    {
      "cell_type": "code",
      "source": [
        "# 정확도 평가\n",
        "test_loss, test_acc = model.evaluate(x_test, y_test_oh)\n",
        "print('테스트 정확도:', test_acc)"
      ],
      "metadata": {
        "colab": {
          "base_uri": "https://localhost:8080/"
        },
        "id": "qkqcAd6GOI-b",
        "outputId": "1f08c564-cd73-474d-a1bf-2d9d8c42afec"
      },
      "execution_count": 70,
      "outputs": [
        {
          "output_type": "stream",
          "name": "stdout",
          "text": [
            "313/313 [==============================] - 1s 5ms/step - loss: 0.0498 - accuracy: 0.9915\n",
            "테스트 정확도: 0.9915000200271606\n"
          ]
        }
      ]
    },
    {
      "cell_type": "code",
      "source": [
        "showAccPlot(history.history)"
      ],
      "metadata": {
        "colab": {
          "base_uri": "https://localhost:8080/",
          "height": 279
        },
        "id": "PCpRRNowOqk8",
        "outputId": "4d1dffab-ed83-426f-d368-bf07b38c5333"
      },
      "execution_count": 71,
      "outputs": [
        {
          "output_type": "display_data",
          "data": {
            "image/png": "[encoded data removed]",
            "text/plain": [
              "<Figure size 432x288 with 2 Axes>"
            ]
          },
          "metadata": {
            "needs_background": "light"
          }
        }
      ]
    },
    {
      "cell_type": "code",
      "source": [
        "model.save(\"drive/MyDrive/mnist_cnn_epoch20.model\")"
      ],
      "metadata": {
        "colab": {
          "base_uri": "https://localhost:8080/"
        },
        "id": "gBaO_Hc3OuXa",
        "outputId": "fb2b0fe6-6189-48c7-b119-b945b200718b"
      },
      "execution_count": 73,
      "outputs": [
        {
          "output_type": "stream",
          "name": "stdout",
          "text": [
            "INFO:tensorflow:Assets written to: drive/MyDrive/mnist_cnn_epoch20.model/assets\n"
          ]
        }
      ]
    }
  ]
}